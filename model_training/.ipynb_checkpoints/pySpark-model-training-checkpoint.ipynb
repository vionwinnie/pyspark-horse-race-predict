{
 "cells": [
  {
   "cell_type": "code",
   "execution_count": 1,
   "metadata": {},
   "outputs": [],
   "source": [
    "## Loading Packages and Dependencies\n",
    "import sys\n",
    "import pyspark as ps\n",
    "import warnings\n",
    "import re\n",
    "import pandas as pd\n",
    "import numpy as np\n",
    "\n",
    "from pyspark.sql import functions as f\n",
    "from pyspark.sql import types as t\n",
    "from pyspark.sql.types import StringType\n",
    "from pyspark.ml.feature import Tokenizer, NGram, CountVectorizer, IDF, StringIndexer, VectorAssembler,StandardScaler\n",
    "from pyspark.ml import Pipeline\n",
    "from pyspark.ml.classification import LogisticRegression\n",
    "from pyspark.ml import PipelineModel"
   ]
  },
  {
   "cell_type": "code",
   "execution_count": 2,
   "metadata": {},
   "outputs": [
    {
     "name": "stdout",
     "output_type": "stream",
     "text": [
      "Created a SparkContext\n"
     ]
    }
   ],
   "source": [
    "## Start spark session\n",
    "sc = ps.SparkContext()\n",
    "sc.setLogLevel(\"ERROR\")\n",
    "sqlContext = ps.sql.SQLContext(sc)\n",
    "print('Created a SparkContext')\n"
   ]
  },
  {
   "cell_type": "code",
   "execution_count": 4,
   "metadata": {},
   "outputs": [],
   "source": [
    "## Load raw data\n",
    "race_df = sqlContext.read.format('com.databricks.spark.csv')\\\n",
    "                    .options(header='true', inferschema='true')\\\n",
    "                    .load('../assets/data/races.csv')\n",
    "\n",
    "runs_df = sqlContext.read.format('com.databricks.spark.csv')\\\n",
    "                    .options(header='true', inferschema='true')\\\n",
    "                    .load('../assets/data/runs.csv')\n"
   ]
  },
  {
   "cell_type": "code",
   "execution_count": 5,
   "metadata": {},
   "outputs": [
    {
     "name": "stdout",
     "output_type": "stream",
     "text": [
      "6349\n",
      "79447\n"
     ]
    }
   ],
   "source": [
    "print(race_df.count())\n",
    "print(runs_df.count())"
   ]
  },
  {
   "cell_type": "markdown",
   "metadata": {},
   "source": [
    "## Clean Race Data"
   ]
  },
  {
   "cell_type": "code",
   "execution_count": 6,
   "metadata": {
    "scrolled": true
   },
   "outputs": [
    {
     "data": {
      "text/plain": [
       "6349"
      ]
     },
     "execution_count": 6,
     "metadata": {},
     "output_type": "execute_result"
    }
   ],
   "source": [
    "# check to see if we have NaN, then drop NaN\n",
    "race_df = race_df.select('race_id','venue', 'config', 'surface', 'distance', 'going', 'race_class')\n",
    "race_df.na.drop(how=\"all\").count()\n"
   ]
  },
  {
   "cell_type": "code",
   "execution_count": 12,
   "metadata": {},
   "outputs": [
    {
     "name": "stdout",
     "output_type": "stream",
     "text": [
      "+------+\n",
      "|config|\n",
      "+------+\n",
      "|     B|\n",
      "|   B+2|\n",
      "|     C|\n",
      "|   C+3|\n",
      "|     A|\n",
      "|   A+3|\n",
      "+------+\n",
      "\n"
     ]
    }
   ],
   "source": [
    "race_df.select(\"config\").distinct().show()"
   ]
  },
  {
   "cell_type": "code",
   "execution_count": 13,
   "metadata": {},
   "outputs": [
    {
     "name": "stdout",
     "output_type": "stream",
     "text": [
      "+----------------+\n",
      "|           going|\n",
      "+----------------+\n",
      "|            SLOW|\n",
      "|            SOFT|\n",
      "|            GOOD|\n",
      "|YIELDING TO SOFT|\n",
      "|        WET SLOW|\n",
      "|GOOD TO YIELDING|\n",
      "|        YIELDING|\n",
      "|        WET FAST|\n",
      "|            FAST|\n",
      "|    GOOD TO FIRM|\n",
      "+----------------+\n",
      "\n"
     ]
    }
   ],
   "source": [
    "race_df.select(\"going\").distinct().show()"
   ]
  },
  {
   "cell_type": "code",
   "execution_count": 14,
   "metadata": {},
   "outputs": [
    {
     "name": "stdout",
     "output_type": "stream",
     "text": [
      "+-----+\n",
      "|venue|\n",
      "+-----+\n",
      "|   HV|\n",
      "|   ST|\n",
      "+-----+\n",
      "\n"
     ]
    }
   ],
   "source": [
    "race_df.select(\"venue\").distinct().show()"
   ]
  },
  {
   "cell_type": "code",
   "execution_count": 6,
   "metadata": {},
   "outputs": [],
   "source": [
    "# encode ordinal columns: config, going, \n",
    "def build_pipeline_race():\n",
    "    config_stringIdx = [StringIndexer(inputCol='config', outputCol='config_tsf')]\n",
    "    going_stringIdx = [StringIndexer(inputCol='going', outputCol='going_tsf')]\n",
    "    venue_stringIdx = [StringIndexer(inputCol='venue', outputCol='venue_tsf')]\n",
    "    pipeline = Pipeline(stages=config_stringIdx+going_stringIdx+venue_stringIdx)\n",
    "    return pipeline"
   ]
  },
  {
   "cell_type": "code",
   "execution_count": 7,
   "metadata": {},
   "outputs": [
    {
     "name": "stdout",
     "output_type": "stream",
     "text": [
      "transforming race dataframe...\n",
      "completed\n",
      "root\n",
      " |-- race_id: integer (nullable = true)\n",
      " |-- surface: integer (nullable = true)\n",
      " |-- distance: integer (nullable = true)\n",
      " |-- race_class: integer (nullable = true)\n",
      " |-- config_tsf: double (nullable = false)\n",
      " |-- going_tsf: double (nullable = false)\n",
      " |-- venue_tsf: double (nullable = false)\n",
      "\n"
     ]
    }
   ],
   "source": [
    "## Instantiate the pipelne and fit with race data\n",
    "pipeline = build_pipeline_race()\n",
    "string_convert_model = pipeline.fit(race_df)\n",
    "print('transforming race dataframe...')\n",
    "processed_race_df = string_convert_model.transform(race_df).drop('config','going','venue')\n",
    "print('completed')\n",
    "processed_race_df.printSchema()"
   ]
  },
  {
   "cell_type": "code",
   "execution_count": 238,
   "metadata": {},
   "outputs": [],
   "source": [
    "## Saving runs data conversion pipeline\n",
    "race_modeldir = 'race_convert_model.pb'\n",
    "string_convert_model.save(race_modeldir)"
   ]
  },
  {
   "cell_type": "markdown",
   "metadata": {},
   "source": [
    "## Clean Run Data"
   ]
  },
  {
   "cell_type": "code",
   "execution_count": 8,
   "metadata": {},
   "outputs": [
    {
     "data": {
      "text/plain": [
       "79445"
      ]
     },
     "execution_count": 8,
     "metadata": {},
     "output_type": "execute_result"
    }
   ],
   "source": [
    "runs_df = runs_df.select('race_id', 'draw', \n",
    "                   'horse_age', 'horse_country', 'horse_type', 'horse_rating', 'declared_weight', 'actual_weight', 'win_odds', \n",
    "                   'result')\n",
    "\n",
    "# check to see if we have NaN, then drop NaN\n",
    "runs_df = runs_df.na.drop(how=\"any\")\n",
    "runs_df.count()"
   ]
  },
  {
   "cell_type": "code",
   "execution_count": 9,
   "metadata": {},
   "outputs": [
    {
     "data": {
      "text/plain": [
       "79444"
      ]
     },
     "execution_count": 9,
     "metadata": {},
     "output_type": "execute_result"
    }
   ],
   "source": [
    "# not sure why, but we got some strange draw in the dataset. Maximum shall be 14\n",
    "runs_df = runs_df.filter(\"draw<=14\")\n",
    "runs_df.count()"
   ]
  },
  {
   "cell_type": "code",
   "execution_count": 15,
   "metadata": {},
   "outputs": [
    {
     "name": "stdout",
     "output_type": "stream",
     "text": [
      "+-------------+\n",
      "|horse_country|\n",
      "+-------------+\n",
      "|          SPA|\n",
      "|          BRZ|\n",
      "|          ZIM|\n",
      "|          AUS|\n",
      "|           GB|\n",
      "|           FR|\n",
      "|          IRE|\n",
      "|          USA|\n",
      "|           GR|\n",
      "|          GER|\n",
      "|          SAF|\n",
      "|          CAN|\n",
      "|          ARG|\n",
      "|           NZ|\n",
      "|          ITY|\n",
      "|          JPN|\n",
      "+-------------+\n",
      "\n"
     ]
    }
   ],
   "source": [
    "runs_df.select(\"horse_country\").distinct().show()"
   ]
  },
  {
   "cell_type": "code",
   "execution_count": 16,
   "metadata": {},
   "outputs": [
    {
     "name": "stdout",
     "output_type": "stream",
     "text": [
      "+----------+\n",
      "|horse_type|\n",
      "+----------+\n",
      "|     Horse|\n",
      "|       Rig|\n",
      "|     Filly|\n",
      "|   Gelding|\n",
      "|      Mare|\n",
      "|      Roan|\n",
      "|     Brown|\n",
      "|      Grey|\n",
      "|      Colt|\n",
      "+----------+\n",
      "\n"
     ]
    }
   ],
   "source": [
    "runs_df.select(\"horse_type\").distinct().show()"
   ]
  },
  {
   "cell_type": "code",
   "execution_count": 17,
   "metadata": {},
   "outputs": [],
   "source": [
    "# encode ordinal columns: horse_country_tsf, horse_type_tsf \n",
    "def build_pipeline_runs():\n",
    "\n",
    "    horse_country_stringIdx = [StringIndexer(inputCol='horse_country', outputCol='horse_country_tsf')]\n",
    "    horse_type_stringIdx = [StringIndexer(inputCol='horse_type', outputCol='horse_type_tsf')]\n",
    "    pipeline = Pipeline(stages=horse_country_stringIdx+horse_type_stringIdx)\n",
    "    return pipeline"
   ]
  },
  {
   "cell_type": "code",
   "execution_count": 18,
   "metadata": {},
   "outputs": [
    {
     "name": "stdout",
     "output_type": "stream",
     "text": [
      "transforming run dataframe...\n",
      "completed\n",
      "root\n",
      " |-- race_id: integer (nullable = true)\n",
      " |-- draw: integer (nullable = true)\n",
      " |-- horse_age: integer (nullable = true)\n",
      " |-- horse_rating: integer (nullable = true)\n",
      " |-- declared_weight: double (nullable = true)\n",
      " |-- actual_weight: integer (nullable = true)\n",
      " |-- win_odds: double (nullable = true)\n",
      " |-- result: integer (nullable = true)\n",
      " |-- horse_country_tsf: double (nullable = false)\n",
      " |-- horse_type_tsf: double (nullable = false)\n",
      "\n"
     ]
    }
   ],
   "source": [
    "pipeline_runs = build_pipeline_runs()\n",
    "runs_convert_model = pipeline_runs.fit(runs_df)\n",
    "print('transforming run dataframe...')\n",
    "runs_processed_df = runs_convert_model.transform(runs_df).drop('horse_country','horse_type')\n",
    "print('completed')\n",
    "runs_processed_df.printSchema()"
   ]
  },
  {
   "cell_type": "code",
   "execution_count": 235,
   "metadata": {},
   "outputs": [],
   "source": [
    "## Saving runs data conversion pipeline\n",
    "runs_modeldir = 'runs_convert_model.pb'\n",
    "runs_convert_model.save(runs_modeldir)"
   ]
  },
  {
   "cell_type": "code",
   "execution_count": 19,
   "metadata": {},
   "outputs": [
    {
     "name": "stdout",
     "output_type": "stream",
     "text": [
      "+-------+----+---------+------------+---------------+-------------+--------+------+-----------------+--------------+\n",
      "|race_id|draw|horse_age|horse_rating|declared_weight|actual_weight|win_odds|result|horse_country_tsf|horse_type_tsf|\n",
      "+-------+----+---------+------------+---------------+-------------+--------+------+-----------------+--------------+\n",
      "|      0|   7|        3|          60|         1020.0|          133|     9.7|    10|              0.0|           0.0|\n",
      "|      0|  12|        3|          60|          980.0|          133|    16.0|     8|              1.0|           0.0|\n",
      "+-------+----+---------+------------+---------------+-------------+--------+------+-----------------+--------------+\n",
      "only showing top 2 rows\n",
      "\n"
     ]
    }
   ],
   "source": [
    "runs_processed_df.show(2)"
   ]
  },
  {
   "cell_type": "code",
   "execution_count": 149,
   "metadata": {},
   "outputs": [],
   "source": [
    "def rename_columns(df, columns):\n",
    "    if isinstance(columns, dict):\n",
    "        for old_name, new_name in columns.items():\n",
    "            df = df.withColumnRenamed(old_name, new_name)\n",
    "        return df\n",
    "    else:\n",
    "        raise ValueError(\"'columns' should be a dict, like {'old_name_1':'new_name_1', 'old_name_2':'new_name_2'}\")"
   ]
  },
  {
   "cell_type": "code",
   "execution_count": 22,
   "metadata": {},
   "outputs": [],
   "source": [
    "from deploy.utils import rename_col_dictionary, rename_columns"
   ]
  },
  {
   "cell_type": "code",
   "execution_count": 23,
   "metadata": {},
   "outputs": [
    {
     "name": "stdout",
     "output_type": "stream",
     "text": [
      "1\n",
      "2\n",
      "3\n",
      "4\n",
      "5\n",
      "6\n",
      "7\n",
      "8\n",
      "9\n",
      "10\n",
      "11\n",
      "12\n",
      "13\n",
      "14\n"
     ]
    }
   ],
   "source": [
    "# dummy dataframe with all race_id\n",
    "unique_val = runs_processed_df.select(\"race_id\").distinct().collect()\n",
    "all_race_id_list = [val['race_id'] for val in unique_val ]\n",
    "# Generate a pandas DataFrame\n",
    "pdf = pd.DataFrame({'race_id':all_race_id_list})\n",
    "# Create a Spark DataFrame from a pandas DataFrame using Arrow\n",
    "final = sqlContext.createDataFrame(pdf)\n",
    "\n",
    "for i in range(1,15):\n",
    "    print(i)\n",
    "    tmp = runs_processed_df.filter(\"draw={}\".format(i))\n",
    "    mapping_cols = rename_col_dictionary(i)    \n",
    "    tmp = rename_columns(tmp,mapping_cols)\n",
    "    \n",
    "    if tmp ==1:\n",
    "        final = tmp\n",
    "    else:\n",
    "        final = final.join(tmp,[\"race_id\"],how='left')\n",
    "    "
   ]
  },
  {
   "cell_type": "code",
   "execution_count": 24,
   "metadata": {},
   "outputs": [
    {
     "name": "stdout",
     "output_type": "stream",
     "text": [
      "127\n",
      "root\n",
      " |-- race_id: long (nullable = true)\n",
      " |-- draw_1: integer (nullable = true)\n",
      " |-- horse_age_1: integer (nullable = true)\n",
      " |-- horse_rating_1: integer (nullable = true)\n",
      " |-- declared_weight_1: double (nullable = true)\n",
      " |-- actual_weight_1: integer (nullable = true)\n",
      " |-- win_odds_1: double (nullable = true)\n",
      " |-- result_1: integer (nullable = true)\n",
      " |-- horse_country_tsf_1: double (nullable = true)\n",
      " |-- horse_type_tsf_1: double (nullable = true)\n",
      " |-- draw_2: integer (nullable = true)\n",
      " |-- horse_age_2: integer (nullable = true)\n",
      " |-- horse_rating_2: integer (nullable = true)\n",
      " |-- declared_weight_2: double (nullable = true)\n",
      " |-- actual_weight_2: integer (nullable = true)\n",
      " |-- win_odds_2: double (nullable = true)\n",
      " |-- result_2: integer (nullable = true)\n",
      " |-- horse_country_tsf_2: double (nullable = true)\n",
      " |-- horse_type_tsf_2: double (nullable = true)\n",
      " |-- draw_3: integer (nullable = true)\n",
      " |-- horse_age_3: integer (nullable = true)\n",
      " |-- horse_rating_3: integer (nullable = true)\n",
      " |-- declared_weight_3: double (nullable = true)\n",
      " |-- actual_weight_3: integer (nullable = true)\n",
      " |-- win_odds_3: double (nullable = true)\n",
      " |-- result_3: integer (nullable = true)\n",
      " |-- horse_country_tsf_3: double (nullable = true)\n",
      " |-- horse_type_tsf_3: double (nullable = true)\n",
      " |-- draw_4: integer (nullable = true)\n",
      " |-- horse_age_4: integer (nullable = true)\n",
      " |-- horse_rating_4: integer (nullable = true)\n",
      " |-- declared_weight_4: double (nullable = true)\n",
      " |-- actual_weight_4: integer (nullable = true)\n",
      " |-- win_odds_4: double (nullable = true)\n",
      " |-- result_4: integer (nullable = true)\n",
      " |-- horse_country_tsf_4: double (nullable = true)\n",
      " |-- horse_type_tsf_4: double (nullable = true)\n",
      " |-- draw_5: integer (nullable = true)\n",
      " |-- horse_age_5: integer (nullable = true)\n",
      " |-- horse_rating_5: integer (nullable = true)\n",
      " |-- declared_weight_5: double (nullable = true)\n",
      " |-- actual_weight_5: integer (nullable = true)\n",
      " |-- win_odds_5: double (nullable = true)\n",
      " |-- result_5: integer (nullable = true)\n",
      " |-- horse_country_tsf_5: double (nullable = true)\n",
      " |-- horse_type_tsf_5: double (nullable = true)\n",
      " |-- draw_6: integer (nullable = true)\n",
      " |-- horse_age_6: integer (nullable = true)\n",
      " |-- horse_rating_6: integer (nullable = true)\n",
      " |-- declared_weight_6: double (nullable = true)\n",
      " |-- actual_weight_6: integer (nullable = true)\n",
      " |-- win_odds_6: double (nullable = true)\n",
      " |-- result_6: integer (nullable = true)\n",
      " |-- horse_country_tsf_6: double (nullable = true)\n",
      " |-- horse_type_tsf_6: double (nullable = true)\n",
      " |-- draw_7: integer (nullable = true)\n",
      " |-- horse_age_7: integer (nullable = true)\n",
      " |-- horse_rating_7: integer (nullable = true)\n",
      " |-- declared_weight_7: double (nullable = true)\n",
      " |-- actual_weight_7: integer (nullable = true)\n",
      " |-- win_odds_7: double (nullable = true)\n",
      " |-- result_7: integer (nullable = true)\n",
      " |-- horse_country_tsf_7: double (nullable = true)\n",
      " |-- horse_type_tsf_7: double (nullable = true)\n",
      " |-- draw_8: integer (nullable = true)\n",
      " |-- horse_age_8: integer (nullable = true)\n",
      " |-- horse_rating_8: integer (nullable = true)\n",
      " |-- declared_weight_8: double (nullable = true)\n",
      " |-- actual_weight_8: integer (nullable = true)\n",
      " |-- win_odds_8: double (nullable = true)\n",
      " |-- result_8: integer (nullable = true)\n",
      " |-- horse_country_tsf_8: double (nullable = true)\n",
      " |-- horse_type_tsf_8: double (nullable = true)\n",
      " |-- draw_9: integer (nullable = true)\n",
      " |-- horse_age_9: integer (nullable = true)\n",
      " |-- horse_rating_9: integer (nullable = true)\n",
      " |-- declared_weight_9: double (nullable = true)\n",
      " |-- actual_weight_9: integer (nullable = true)\n",
      " |-- win_odds_9: double (nullable = true)\n",
      " |-- result_9: integer (nullable = true)\n",
      " |-- horse_country_tsf_9: double (nullable = true)\n",
      " |-- horse_type_tsf_9: double (nullable = true)\n",
      " |-- draw_10: integer (nullable = true)\n",
      " |-- horse_age_10: integer (nullable = true)\n",
      " |-- horse_rating_10: integer (nullable = true)\n",
      " |-- declared_weight_10: double (nullable = true)\n",
      " |-- actual_weight_10: integer (nullable = true)\n",
      " |-- win_odds_10: double (nullable = true)\n",
      " |-- result_10: integer (nullable = true)\n",
      " |-- horse_country_tsf_10: double (nullable = true)\n",
      " |-- horse_type_tsf_10: double (nullable = true)\n",
      " |-- draw_11: integer (nullable = true)\n",
      " |-- horse_age_11: integer (nullable = true)\n",
      " |-- horse_rating_11: integer (nullable = true)\n",
      " |-- declared_weight_11: double (nullable = true)\n",
      " |-- actual_weight_11: integer (nullable = true)\n",
      " |-- win_odds_11: double (nullable = true)\n",
      " |-- result_11: integer (nullable = true)\n",
      " |-- horse_country_tsf_11: double (nullable = true)\n",
      " |-- horse_type_tsf_11: double (nullable = true)\n",
      " |-- draw_12: integer (nullable = true)\n",
      " |-- horse_age_12: integer (nullable = true)\n",
      " |-- horse_rating_12: integer (nullable = true)\n",
      " |-- declared_weight_12: double (nullable = true)\n",
      " |-- actual_weight_12: integer (nullable = true)\n",
      " |-- win_odds_12: double (nullable = true)\n",
      " |-- result_12: integer (nullable = true)\n",
      " |-- horse_country_tsf_12: double (nullable = true)\n",
      " |-- horse_type_tsf_12: double (nullable = true)\n",
      " |-- draw_13: integer (nullable = true)\n",
      " |-- horse_age_13: integer (nullable = true)\n",
      " |-- horse_rating_13: integer (nullable = true)\n",
      " |-- declared_weight_13: double (nullable = true)\n",
      " |-- actual_weight_13: integer (nullable = true)\n",
      " |-- win_odds_13: double (nullable = true)\n",
      " |-- result_13: integer (nullable = true)\n",
      " |-- horse_country_tsf_13: double (nullable = true)\n",
      " |-- horse_type_tsf_13: double (nullable = true)\n",
      " |-- draw_14: integer (nullable = true)\n",
      " |-- horse_age_14: integer (nullable = true)\n",
      " |-- horse_rating_14: integer (nullable = true)\n",
      " |-- declared_weight_14: double (nullable = true)\n",
      " |-- actual_weight_14: integer (nullable = true)\n",
      " |-- win_odds_14: double (nullable = true)\n",
      " |-- result_14: integer (nullable = true)\n",
      " |-- horse_country_tsf_14: double (nullable = true)\n",
      " |-- horse_type_tsf_14: double (nullable = true)\n",
      "\n"
     ]
    }
   ],
   "source": [
    "print(len(final.columns))\n",
    "final.printSchema()"
   ]
  },
  {
   "cell_type": "code",
   "execution_count": 25,
   "metadata": {},
   "outputs": [],
   "source": [
    "## Fill NA with zero\n",
    "runs_df = final.fillna(0)\n"
   ]
  },
  {
   "cell_type": "code",
   "execution_count": 26,
   "metadata": {},
   "outputs": [
    {
     "name": "stdout",
     "output_type": "stream",
     "text": [
      "root\n",
      " |-- surface: integer (nullable = true)\n",
      " |-- distance: integer (nullable = true)\n",
      " |-- race_class: integer (nullable = true)\n",
      " |-- config_tsf: double (nullable = true)\n",
      " |-- going_tsf: double (nullable = true)\n",
      " |-- venue_tsf: double (nullable = true)\n",
      " |-- horse_age_1: integer (nullable = true)\n",
      " |-- horse_rating_1: integer (nullable = true)\n",
      " |-- declared_weight_1: double (nullable = false)\n",
      " |-- actual_weight_1: integer (nullable = true)\n",
      " |-- win_odds_1: double (nullable = false)\n",
      " |-- horse_country_tsf_1: double (nullable = false)\n",
      " |-- horse_type_tsf_1: double (nullable = false)\n",
      " |-- horse_age_2: integer (nullable = true)\n",
      " |-- horse_rating_2: integer (nullable = true)\n",
      " |-- declared_weight_2: double (nullable = false)\n",
      " |-- actual_weight_2: integer (nullable = true)\n",
      " |-- win_odds_2: double (nullable = false)\n",
      " |-- horse_country_tsf_2: double (nullable = false)\n",
      " |-- horse_type_tsf_2: double (nullable = false)\n",
      " |-- horse_age_3: integer (nullable = true)\n",
      " |-- horse_rating_3: integer (nullable = true)\n",
      " |-- declared_weight_3: double (nullable = false)\n",
      " |-- actual_weight_3: integer (nullable = true)\n",
      " |-- win_odds_3: double (nullable = false)\n",
      " |-- horse_country_tsf_3: double (nullable = false)\n",
      " |-- horse_type_tsf_3: double (nullable = false)\n",
      " |-- horse_age_4: integer (nullable = true)\n",
      " |-- horse_rating_4: integer (nullable = true)\n",
      " |-- declared_weight_4: double (nullable = false)\n",
      " |-- actual_weight_4: integer (nullable = true)\n",
      " |-- win_odds_4: double (nullable = false)\n",
      " |-- horse_country_tsf_4: double (nullable = false)\n",
      " |-- horse_type_tsf_4: double (nullable = false)\n",
      " |-- horse_age_5: integer (nullable = true)\n",
      " |-- horse_rating_5: integer (nullable = true)\n",
      " |-- declared_weight_5: double (nullable = false)\n",
      " |-- actual_weight_5: integer (nullable = true)\n",
      " |-- win_odds_5: double (nullable = false)\n",
      " |-- horse_country_tsf_5: double (nullable = false)\n",
      " |-- horse_type_tsf_5: double (nullable = false)\n",
      " |-- horse_age_6: integer (nullable = true)\n",
      " |-- horse_rating_6: integer (nullable = true)\n",
      " |-- declared_weight_6: double (nullable = false)\n",
      " |-- actual_weight_6: integer (nullable = true)\n",
      " |-- win_odds_6: double (nullable = false)\n",
      " |-- horse_country_tsf_6: double (nullable = false)\n",
      " |-- horse_type_tsf_6: double (nullable = false)\n",
      " |-- horse_age_7: integer (nullable = true)\n",
      " |-- horse_rating_7: integer (nullable = true)\n",
      " |-- declared_weight_7: double (nullable = false)\n",
      " |-- actual_weight_7: integer (nullable = true)\n",
      " |-- win_odds_7: double (nullable = false)\n",
      " |-- horse_country_tsf_7: double (nullable = false)\n",
      " |-- horse_type_tsf_7: double (nullable = false)\n",
      " |-- horse_age_8: integer (nullable = true)\n",
      " |-- horse_rating_8: integer (nullable = true)\n",
      " |-- declared_weight_8: double (nullable = false)\n",
      " |-- actual_weight_8: integer (nullable = true)\n",
      " |-- win_odds_8: double (nullable = false)\n",
      " |-- horse_country_tsf_8: double (nullable = false)\n",
      " |-- horse_type_tsf_8: double (nullable = false)\n",
      " |-- horse_age_9: integer (nullable = true)\n",
      " |-- horse_rating_9: integer (nullable = true)\n",
      " |-- declared_weight_9: double (nullable = false)\n",
      " |-- actual_weight_9: integer (nullable = true)\n",
      " |-- win_odds_9: double (nullable = false)\n",
      " |-- horse_country_tsf_9: double (nullable = false)\n",
      " |-- horse_type_tsf_9: double (nullable = false)\n",
      " |-- horse_age_10: integer (nullable = true)\n",
      " |-- horse_rating_10: integer (nullable = true)\n",
      " |-- declared_weight_10: double (nullable = false)\n",
      " |-- actual_weight_10: integer (nullable = true)\n",
      " |-- win_odds_10: double (nullable = false)\n",
      " |-- horse_country_tsf_10: double (nullable = false)\n",
      " |-- horse_type_tsf_10: double (nullable = false)\n",
      " |-- horse_age_11: integer (nullable = true)\n",
      " |-- horse_rating_11: integer (nullable = true)\n",
      " |-- declared_weight_11: double (nullable = false)\n",
      " |-- actual_weight_11: integer (nullable = true)\n",
      " |-- win_odds_11: double (nullable = false)\n",
      " |-- horse_country_tsf_11: double (nullable = false)\n",
      " |-- horse_type_tsf_11: double (nullable = false)\n",
      " |-- horse_age_12: integer (nullable = true)\n",
      " |-- horse_rating_12: integer (nullable = true)\n",
      " |-- declared_weight_12: double (nullable = false)\n",
      " |-- actual_weight_12: integer (nullable = true)\n",
      " |-- win_odds_12: double (nullable = false)\n",
      " |-- horse_country_tsf_12: double (nullable = false)\n",
      " |-- horse_type_tsf_12: double (nullable = false)\n",
      " |-- horse_age_13: integer (nullable = true)\n",
      " |-- horse_rating_13: integer (nullable = true)\n",
      " |-- declared_weight_13: double (nullable = false)\n",
      " |-- actual_weight_13: integer (nullable = true)\n",
      " |-- win_odds_13: double (nullable = false)\n",
      " |-- horse_country_tsf_13: double (nullable = false)\n",
      " |-- horse_type_tsf_13: double (nullable = false)\n",
      " |-- horse_age_14: integer (nullable = true)\n",
      " |-- horse_rating_14: integer (nullable = true)\n",
      " |-- declared_weight_14: double (nullable = false)\n",
      " |-- actual_weight_14: integer (nullable = true)\n",
      " |-- win_odds_14: double (nullable = false)\n",
      " |-- horse_country_tsf_14: double (nullable = false)\n",
      " |-- horse_type_tsf_14: double (nullable = false)\n",
      "\n"
     ]
    }
   ],
   "source": [
    "join_df = processed_race_df.join(runs_df, on='race_id', how='right')\n",
    "\n",
    "## Drop race_id\n",
    "selected = [s for s in join_df.columns if 'result' not in s]\n",
    "selected = [s for s in selected if 'draw' not in s]\n",
    "selected.remove(\"race_id\")\n",
    "\n",
    "X_all = join_df.select(selected)\n",
    "X_all.printSchema()\n",
    "\n",
    "## Name output column\n",
    "input_cols_name = X_all.columns\n",
    "output_cols = [col + '_scaled' for col in X_all.columns]\n",
    "\n"
   ]
  },
  {
   "cell_type": "code",
   "execution_count": 27,
   "metadata": {},
   "outputs": [
    {
     "data": {
      "text/plain": [
       "104"
      ]
     },
     "execution_count": 27,
     "metadata": {},
     "output_type": "execute_result"
    }
   ],
   "source": [
    "len(X_all.columns)"
   ]
  },
  {
   "cell_type": "code",
   "execution_count": 28,
   "metadata": {},
   "outputs": [],
   "source": [
    "## Standardize all the variables\n",
    "from pyspark.ml import Pipeline\n",
    "from pyspark.ml.feature import StandardScaler\n",
    "assemblers = [VectorAssembler(inputCols=[col], outputCol=col + \"_vec\") for col in input_cols_name]\n",
    "scalers = [StandardScaler(inputCol=col + \"_vec\", outputCol=col + \"_scaled\") for col in input_cols_name]\n",
    "pipeline = Pipeline(stages=assemblers + scalers)\n",
    "\n",
    "scalerModel = pipeline.fit(X_all)\n",
    "scaledData = scalerModel.transform(X_all)\n"
   ]
  },
  {
   "cell_type": "code",
   "execution_count": 240,
   "metadata": {},
   "outputs": [],
   "source": [
    "## Saving runs data conversion pipeline\n",
    "scaler_modeldir = 'scaler_model.pb'\n",
    "scalerModel.save(scaler_modeldir)"
   ]
  },
  {
   "cell_type": "code",
   "execution_count": 29,
   "metadata": {},
   "outputs": [
    {
     "name": "stdout",
     "output_type": "stream",
     "text": [
      "root\n",
      " |-- surface_scaled: vector (nullable = true)\n",
      " |-- distance_scaled: vector (nullable = true)\n",
      " |-- race_class_scaled: vector (nullable = true)\n",
      " |-- config_tsf_scaled: vector (nullable = true)\n",
      " |-- going_tsf_scaled: vector (nullable = true)\n",
      " |-- venue_tsf_scaled: vector (nullable = true)\n",
      " |-- horse_age_1_scaled: vector (nullable = true)\n",
      " |-- horse_rating_1_scaled: vector (nullable = true)\n",
      " |-- declared_weight_1_scaled: vector (nullable = true)\n",
      " |-- actual_weight_1_scaled: vector (nullable = true)\n",
      " |-- win_odds_1_scaled: vector (nullable = true)\n",
      " |-- horse_country_tsf_1_scaled: vector (nullable = true)\n",
      " |-- horse_type_tsf_1_scaled: vector (nullable = true)\n",
      " |-- horse_age_2_scaled: vector (nullable = true)\n",
      " |-- horse_rating_2_scaled: vector (nullable = true)\n",
      " |-- declared_weight_2_scaled: vector (nullable = true)\n",
      " |-- actual_weight_2_scaled: vector (nullable = true)\n",
      " |-- win_odds_2_scaled: vector (nullable = true)\n",
      " |-- horse_country_tsf_2_scaled: vector (nullable = true)\n",
      " |-- horse_type_tsf_2_scaled: vector (nullable = true)\n",
      " |-- horse_age_3_scaled: vector (nullable = true)\n",
      " |-- horse_rating_3_scaled: vector (nullable = true)\n",
      " |-- declared_weight_3_scaled: vector (nullable = true)\n",
      " |-- actual_weight_3_scaled: vector (nullable = true)\n",
      " |-- win_odds_3_scaled: vector (nullable = true)\n",
      " |-- horse_country_tsf_3_scaled: vector (nullable = true)\n",
      " |-- horse_type_tsf_3_scaled: vector (nullable = true)\n",
      " |-- horse_age_4_scaled: vector (nullable = true)\n",
      " |-- horse_rating_4_scaled: vector (nullable = true)\n",
      " |-- declared_weight_4_scaled: vector (nullable = true)\n",
      " |-- actual_weight_4_scaled: vector (nullable = true)\n",
      " |-- win_odds_4_scaled: vector (nullable = true)\n",
      " |-- horse_country_tsf_4_scaled: vector (nullable = true)\n",
      " |-- horse_type_tsf_4_scaled: vector (nullable = true)\n",
      " |-- horse_age_5_scaled: vector (nullable = true)\n",
      " |-- horse_rating_5_scaled: vector (nullable = true)\n",
      " |-- declared_weight_5_scaled: vector (nullable = true)\n",
      " |-- actual_weight_5_scaled: vector (nullable = true)\n",
      " |-- win_odds_5_scaled: vector (nullable = true)\n",
      " |-- horse_country_tsf_5_scaled: vector (nullable = true)\n",
      " |-- horse_type_tsf_5_scaled: vector (nullable = true)\n",
      " |-- horse_age_6_scaled: vector (nullable = true)\n",
      " |-- horse_rating_6_scaled: vector (nullable = true)\n",
      " |-- declared_weight_6_scaled: vector (nullable = true)\n",
      " |-- actual_weight_6_scaled: vector (nullable = true)\n",
      " |-- win_odds_6_scaled: vector (nullable = true)\n",
      " |-- horse_country_tsf_6_scaled: vector (nullable = true)\n",
      " |-- horse_type_tsf_6_scaled: vector (nullable = true)\n",
      " |-- horse_age_7_scaled: vector (nullable = true)\n",
      " |-- horse_rating_7_scaled: vector (nullable = true)\n",
      " |-- declared_weight_7_scaled: vector (nullable = true)\n",
      " |-- actual_weight_7_scaled: vector (nullable = true)\n",
      " |-- win_odds_7_scaled: vector (nullable = true)\n",
      " |-- horse_country_tsf_7_scaled: vector (nullable = true)\n",
      " |-- horse_type_tsf_7_scaled: vector (nullable = true)\n",
      " |-- horse_age_8_scaled: vector (nullable = true)\n",
      " |-- horse_rating_8_scaled: vector (nullable = true)\n",
      " |-- declared_weight_8_scaled: vector (nullable = true)\n",
      " |-- actual_weight_8_scaled: vector (nullable = true)\n",
      " |-- win_odds_8_scaled: vector (nullable = true)\n",
      " |-- horse_country_tsf_8_scaled: vector (nullable = true)\n",
      " |-- horse_type_tsf_8_scaled: vector (nullable = true)\n",
      " |-- horse_age_9_scaled: vector (nullable = true)\n",
      " |-- horse_rating_9_scaled: vector (nullable = true)\n",
      " |-- declared_weight_9_scaled: vector (nullable = true)\n",
      " |-- actual_weight_9_scaled: vector (nullable = true)\n",
      " |-- win_odds_9_scaled: vector (nullable = true)\n",
      " |-- horse_country_tsf_9_scaled: vector (nullable = true)\n",
      " |-- horse_type_tsf_9_scaled: vector (nullable = true)\n",
      " |-- horse_age_10_scaled: vector (nullable = true)\n",
      " |-- horse_rating_10_scaled: vector (nullable = true)\n",
      " |-- declared_weight_10_scaled: vector (nullable = true)\n",
      " |-- actual_weight_10_scaled: vector (nullable = true)\n",
      " |-- win_odds_10_scaled: vector (nullable = true)\n",
      " |-- horse_country_tsf_10_scaled: vector (nullable = true)\n",
      " |-- horse_type_tsf_10_scaled: vector (nullable = true)\n",
      " |-- horse_age_11_scaled: vector (nullable = true)\n",
      " |-- horse_rating_11_scaled: vector (nullable = true)\n",
      " |-- declared_weight_11_scaled: vector (nullable = true)\n",
      " |-- actual_weight_11_scaled: vector (nullable = true)\n",
      " |-- win_odds_11_scaled: vector (nullable = true)\n",
      " |-- horse_country_tsf_11_scaled: vector (nullable = true)\n",
      " |-- horse_type_tsf_11_scaled: vector (nullable = true)\n",
      " |-- horse_age_12_scaled: vector (nullable = true)\n",
      " |-- horse_rating_12_scaled: vector (nullable = true)\n",
      " |-- declared_weight_12_scaled: vector (nullable = true)\n",
      " |-- actual_weight_12_scaled: vector (nullable = true)\n",
      " |-- win_odds_12_scaled: vector (nullable = true)\n",
      " |-- horse_country_tsf_12_scaled: vector (nullable = true)\n",
      " |-- horse_type_tsf_12_scaled: vector (nullable = true)\n",
      " |-- horse_age_13_scaled: vector (nullable = true)\n",
      " |-- horse_rating_13_scaled: vector (nullable = true)\n",
      " |-- declared_weight_13_scaled: vector (nullable = true)\n",
      " |-- actual_weight_13_scaled: vector (nullable = true)\n",
      " |-- win_odds_13_scaled: vector (nullable = true)\n",
      " |-- horse_country_tsf_13_scaled: vector (nullable = true)\n",
      " |-- horse_type_tsf_13_scaled: vector (nullable = true)\n",
      " |-- horse_age_14_scaled: vector (nullable = true)\n",
      " |-- horse_rating_14_scaled: vector (nullable = true)\n",
      " |-- declared_weight_14_scaled: vector (nullable = true)\n",
      " |-- actual_weight_14_scaled: vector (nullable = true)\n",
      " |-- win_odds_14_scaled: vector (nullable = true)\n",
      " |-- horse_country_tsf_14_scaled: vector (nullable = true)\n",
      " |-- horse_type_tsf_14_scaled: vector (nullable = true)\n",
      "\n"
     ]
    }
   ],
   "source": [
    "selected = [s for s in scaledData.columns if 'scaled'  in s]\n",
    "scaledData_final = scaledData.select(selected)\n",
    "scaledData_final.printSchema()"
   ]
  },
  {
   "cell_type": "code",
   "execution_count": 30,
   "metadata": {},
   "outputs": [],
   "source": [
    "def reset_number(df):    \n",
    "    for i in range(1,15):\n",
    "        df = df.withColumn(\"result_{}_msk\".format(i), f.when((f.col(\"result_{}\".format(i)) == 1),1).otherwise(0)).drop(\"result_{}\".format(i))    \n",
    "    return df"
   ]
  },
  {
   "cell_type": "code",
   "execution_count": 31,
   "metadata": {},
   "outputs": [],
   "source": [
    "selected_y = [s for s in runs_df.columns if 'result' in s]\n",
    "y_all = runs_df.select(selected_y)\n",
    "y_all = reset_number(y_all)"
   ]
  },
  {
   "cell_type": "code",
   "execution_count": 32,
   "metadata": {},
   "outputs": [],
   "source": [
    "X_all_pdf = scaledData_final.select(\"*\").toPandas()\n",
    "y_all_pdf = y_all.select(\"*\").toPandas()"
   ]
  },
  {
   "cell_type": "code",
   "execution_count": 33,
   "metadata": {},
   "outputs": [],
   "source": [
    "X_all_pdf_devectorized = X_all_pdf.applymap(lambda x: x.item())"
   ]
  },
  {
   "cell_type": "code",
   "execution_count": 34,
   "metadata": {},
   "outputs": [],
   "source": [
    "from sklearn.model_selection import train_test_split\n",
    "X_train, X_test, y_train, y_test = train_test_split(X_all_pdf_devectorized, y_all_pdf, test_size=0.2, random_state=42)"
   ]
  },
  {
   "cell_type": "code",
   "execution_count": 35,
   "metadata": {},
   "outputs": [
    {
     "data": {
      "text/plain": [
       "(5078, 104)"
      ]
     },
     "execution_count": 35,
     "metadata": {},
     "output_type": "execute_result"
    }
   ],
   "source": [
    "X_train.shape"
   ]
  },
  {
   "cell_type": "markdown",
   "metadata": {},
   "source": [
    "## Model Training\n",
    "- https://www.tensorflow.org/tutorials/keras/save_and_load"
   ]
  },
  {
   "cell_type": "code",
   "execution_count": 65,
   "metadata": {},
   "outputs": [],
   "source": [
    "## Set up a tensorflow sequential model\n",
    "import tensorflow as tf \n",
    "\n",
    "def create_model(lr,dropout):\n",
    "    model = tf.keras.Sequential([\n",
    "        tf.keras.layers.Dense(96, activation='relu', input_shape=(104,)),\n",
    "        tf.keras.layers.Dropout(dropout),\n",
    "        tf.keras.layers.Dense(50, activation='relu'),\n",
    "        tf.keras.layers.Dense(14, activation='softmax')\n",
    "    ])\n",
    "\n",
    "    model.compile(optimizer=tf.keras.optimizers.Adam(lr),\n",
    "                  loss=tf.keras.losses.CategoricalCrossentropy(),\n",
    "                  #metrics=[tf.keras.metrics.Precision(name='precision')]\n",
    "                  metrics=['accuracy',tf.keras.metrics.Precision(name='precision')])\n",
    "    \n",
    "    return model \n",
    "\n"
   ]
  },
  {
   "cell_type": "code",
   "execution_count": 66,
   "metadata": {},
   "outputs": [
    {
     "name": "stdout",
     "output_type": "stream",
     "text": [
      "WARNING:tensorflow:`period` argument is deprecated. Please use `save_freq` to specify the frequency in number of samples seen.\n"
     ]
    }
   ],
   "source": [
    "## Save the weights to be loaded later\n",
    "import os,shutil\n",
    "callback_dir = \"./output/callback/\"\n",
    "weight_cur_epoch = callback_dir + \"{epoch:02d}-weight-validation-loss-{val_loss:.4f}.hdf5\"\n",
    "\n",
    "if os.path.exists(callback_dir):\n",
    "    shutil.rmtree(callback_dir)\n",
    "\n",
    "os.makedirs(callback_dir)\n",
    "\n",
    "weight_callback = tf.keras.callbacks.ModelCheckpoint(\n",
    "    weight_cur_epoch,\n",
    "    verbose=1,\n",
    "    save_weights_only=True,\n",
    "    period=5)\n",
    "\n"
   ]
  },
  {
   "cell_type": "code",
   "execution_count": 68,
   "metadata": {},
   "outputs": [],
   "source": [
    "learn_rate = 1e-04\n",
    "epoch = 200\n",
    "batch_size = 32\n",
    "dropout=0.5\n",
    "\n",
    "model = create_model(learn_rate,dropout)"
   ]
  },
  {
   "cell_type": "code",
   "execution_count": 69,
   "metadata": {},
   "outputs": [
    {
     "name": "stdout",
     "output_type": "stream",
     "text": [
      "Start training..\n",
      "\n"
     ]
    }
   ],
   "source": [
    "## Create dataset \n",
    "dataset = tf.data.Dataset.from_tensor_slices((X_train.values, y_train.values))\n",
    "train_dataset = dataset.shuffle(len(X_train)).batch(batch_size)\n",
    "dataset = tf.data.Dataset.from_tensor_slices((X_test.values, y_test.values))\n",
    "validation_dataset = dataset.shuffle(len(X_test)).batch(batch_size)\n",
    "\n",
    "print(\"Start training..\\n\")"
   ]
  },
  {
   "cell_type": "code",
   "execution_count": 70,
   "metadata": {
    "scrolled": true
   },
   "outputs": [
    {
     "name": "stdout",
     "output_type": "stream",
     "text": [
      "Train for 159 steps, validate for 40 steps\n",
      "Epoch 1/200\n",
      "159/159 [==============================] - 5s 32ms/step - loss: 5.6512 - accuracy: 0.0756 - precision: 0.0773 - val_loss: 3.0542 - val_accuracy: 0.0811 - val_precision: 0.0000e+00\n",
      "Epoch 2/200\n",
      "159/159 [==============================] - 1s 9ms/step - loss: 3.3641 - accuracy: 0.0746 - precision: 0.0668 - val_loss: 2.7412 - val_accuracy: 0.0850 - val_precision: 0.0000e+00\n",
      "Epoch 3/200\n",
      "159/159 [==============================] - 1s 8ms/step - loss: 2.9143 - accuracy: 0.0738 - precision: 0.0588 - val_loss: 2.6772 - val_accuracy: 0.0827 - val_precision: 0.0000e+00\n",
      "Epoch 4/200\n",
      "159/159 [==============================] - 1s 9ms/step - loss: 2.7533 - accuracy: 0.0853 - precision: 0.1429 - val_loss: 2.6465 - val_accuracy: 0.0866 - val_precision: 0.0000e+00\n",
      "Epoch 5/200\n",
      "158/159 [============================>.] - ETA: 0s - loss: 2.6994 - accuracy: 0.0864 - precision: 0.0000e+00\n",
      "Epoch 00005: saving model to ./output/callback/05-weight-validation-loss-2.6322.hdf5\n",
      "159/159 [==============================] - 2s 14ms/step - loss: 2.6987 - accuracy: 0.0865 - precision: 0.0000e+00 - val_loss: 2.6322 - val_accuracy: 0.0969 - val_precision: 0.0000e+00\n",
      "Epoch 6/200\n",
      "159/159 [==============================] - 1s 9ms/step - loss: 2.6654 - accuracy: 0.0859 - precision: 0.0000e+00 - val_loss: 2.6209 - val_accuracy: 0.0961 - val_precision: 0.0000e+00\n",
      "Epoch 7/200\n",
      "159/159 [==============================] - 2s 10ms/step - loss: 2.6479 - accuracy: 0.0857 - precision: 0.0000e+00 - val_loss: 2.6118 - val_accuracy: 0.1102 - val_precision: 0.0000e+00\n",
      "Epoch 8/200\n",
      "159/159 [==============================] - 2s 15ms/step - loss: 2.6294 - accuracy: 0.0914 - precision: 0.0000e+00 - val_loss: 2.6059 - val_accuracy: 0.1063 - val_precision: 0.0000e+00\n",
      "Epoch 9/200\n",
      "159/159 [==============================] - 2s 13ms/step - loss: 2.6128 - accuracy: 0.0910 - precision: 0.0000e+00 - val_loss: 2.5973 - val_accuracy: 0.1087 - val_precision: 0.0000e+00\n",
      "Epoch 10/200\n",
      "158/159 [============================>.] - ETA: 0s - loss: 2.6094 - accuracy: 0.0941 - precision: 0.0000e+00\n",
      "Epoch 00010: saving model to ./output/callback/10-weight-validation-loss-2.5946.hdf5\n",
      "159/159 [==============================] - 2s 10ms/step - loss: 2.6095 - accuracy: 0.0943 - precision: 0.0000e+00 - val_loss: 2.5946 - val_accuracy: 0.1181 - val_precision: 0.0000e+00\n",
      "Epoch 11/200\n",
      "159/159 [==============================] - 2s 10ms/step - loss: 2.6047 - accuracy: 0.0996 - precision: 0.0000e+00 - val_loss: 2.5900 - val_accuracy: 0.1213 - val_precision: 0.0000e+00\n",
      "Epoch 12/200\n",
      "159/159 [==============================] - 2s 11ms/step - loss: 2.6009 - accuracy: 0.0977 - precision: 0.0000e+00 - val_loss: 2.5865 - val_accuracy: 0.1157 - val_precision: 0.0000e+00\n",
      "Epoch 13/200\n",
      "159/159 [==============================] - 2s 13ms/step - loss: 2.5980 - accuracy: 0.0924 - precision: 0.0000e+00 - val_loss: 2.5856 - val_accuracy: 0.1157 - val_precision: 0.0000e+00\n",
      "Epoch 14/200\n",
      "159/159 [==============================] - 2s 13ms/step - loss: 2.5876 - accuracy: 0.1042 - precision: 0.0000e+00 - val_loss: 2.5800 - val_accuracy: 0.1189 - val_precision: 0.0000e+00\n",
      "Epoch 15/200\n",
      "158/159 [============================>.] - ETA: 0s - loss: 2.5871 - accuracy: 0.0941 - precision: 1.0000\n",
      "Epoch 00015: saving model to ./output/callback/15-weight-validation-loss-2.5791.hdf5\n",
      "159/159 [==============================] - 2s 14ms/step - loss: 2.5875 - accuracy: 0.0939 - precision: 1.0000 - val_loss: 2.5791 - val_accuracy: 0.1087 - val_precision: 0.0000e+00\n",
      "Epoch 16/200\n",
      "159/159 [==============================] - 2s 12ms/step - loss: 2.5863 - accuracy: 0.0994 - precision: 0.0000e+00 - val_loss: 2.5743 - val_accuracy: 0.1150 - val_precision: 0.0000e+00\n",
      "Epoch 17/200\n",
      "159/159 [==============================] - 2s 11ms/step - loss: 2.5802 - accuracy: 0.1022 - precision: 0.0000e+00 - val_loss: 2.5758 - val_accuracy: 0.1150 - val_precision: 0.0000e+00\n",
      "Epoch 18/200\n",
      "159/159 [==============================] - 2s 11ms/step - loss: 2.5748 - accuracy: 0.1058 - precision: 0.0000e+00 - val_loss: 2.5681 - val_accuracy: 0.1213 - val_precision: 0.0000e+00\n",
      "Epoch 19/200\n",
      "159/159 [==============================] - 2s 11ms/step - loss: 2.5757 - accuracy: 0.1091 - precision: 0.0000e+00 - val_loss: 2.5704 - val_accuracy: 0.1189 - val_precision: 0.0000e+00\n",
      "Epoch 20/200\n",
      "156/159 [============================>.] - ETA: 0s - loss: 2.5698 - accuracy: 0.1002 - precision: 0.0000e+00\n",
      "Epoch 00020: saving model to ./output/callback/20-weight-validation-loss-2.5663.hdf5\n",
      "159/159 [==============================] - 2s 11ms/step - loss: 2.5703 - accuracy: 0.0996 - precision: 0.0000e+00 - val_loss: 2.5663 - val_accuracy: 0.1173 - val_precision: 0.0000e+00\n",
      "Epoch 21/200\n",
      "159/159 [==============================] - 2s 11ms/step - loss: 2.5668 - accuracy: 0.1024 - precision: 0.0000e+00 - val_loss: 2.5644 - val_accuracy: 0.1205 - val_precision: 0.0000e+00\n",
      "Epoch 22/200\n",
      "159/159 [==============================] - 1s 8ms/step - loss: 2.5651 - accuracy: 0.0994 - precision: 0.0000e+00 - val_loss: 2.5624 - val_accuracy: 0.1157 - val_precision: 0.0000e+00\n",
      "Epoch 23/200\n",
      "159/159 [==============================] - 2s 10ms/step - loss: 2.5602 - accuracy: 0.1187 - precision: 0.5000 - val_loss: 2.5612 - val_accuracy: 0.1213 - val_precision: 0.0000e+00\n",
      "Epoch 24/200\n",
      "159/159 [==============================] - 2s 11ms/step - loss: 2.5643 - accuracy: 0.1083 - precision: 0.0000e+00 - val_loss: 2.5602 - val_accuracy: 0.1173 - val_precision: 0.0000e+00\n",
      "Epoch 25/200\n",
      "156/159 [============================>.] - ETA: 0s - loss: 2.5565 - accuracy: 0.1134 - precision: 1.0000\n",
      "Epoch 00025: saving model to ./output/callback/25-weight-validation-loss-2.5572.hdf5\n",
      "159/159 [==============================] - 2s 10ms/step - loss: 2.5566 - accuracy: 0.1132 - precision: 1.0000 - val_loss: 2.5572 - val_accuracy: 0.1205 - val_precision: 0.0000e+00\n",
      "Epoch 26/200\n",
      "159/159 [==============================] - 2s 10ms/step - loss: 2.5524 - accuracy: 0.1085 - precision: 1.0000 - val_loss: 2.5559 - val_accuracy: 0.1173 - val_precision: 0.0000e+00\n",
      "Epoch 27/200\n",
      "159/159 [==============================] - 2s 10ms/step - loss: 2.5533 - accuracy: 0.1063 - precision: 1.0000 - val_loss: 2.5555 - val_accuracy: 0.1102 - val_precision: 0.0000e+00\n",
      "Epoch 28/200\n",
      "159/159 [==============================] - 2s 10ms/step - loss: 2.5520 - accuracy: 0.1059 - precision: 0.0000e+00 - val_loss: 2.5530 - val_accuracy: 0.1157 - val_precision: 0.0000e+00\n",
      "Epoch 29/200\n",
      "159/159 [==============================] - 2s 11ms/step - loss: 2.5507 - accuracy: 0.1119 - precision: 1.0000 - val_loss: 2.5523 - val_accuracy: 0.1189 - val_precision: 0.0000e+00\n",
      "Epoch 30/200\n",
      "153/159 [===========================>..] - ETA: 0s - loss: 2.5490 - accuracy: 0.1144 - precision: 1.0000\n",
      "Epoch 00030: saving model to ./output/callback/30-weight-validation-loss-2.5490.hdf5\n",
      "159/159 [==============================] - 2s 11ms/step - loss: 2.5491 - accuracy: 0.1128 - precision: 1.0000 - val_loss: 2.5490 - val_accuracy: 0.1213 - val_precision: 0.0000e+00\n",
      "Epoch 31/200\n",
      "159/159 [==============================] - 2s 10ms/step - loss: 2.5428 - accuracy: 0.1107 - precision: 0.0000e+00 - val_loss: 2.5490 - val_accuracy: 0.1197 - val_precision: 0.0000e+00\n",
      "Epoch 32/200\n",
      "159/159 [==============================] - 1s 9ms/step - loss: 2.5404 - accuracy: 0.1130 - precision: 0.6667 - val_loss: 2.5472 - val_accuracy: 0.1205 - val_precision: 0.0000e+00\n",
      "Epoch 33/200\n",
      "159/159 [==============================] - 2s 12ms/step - loss: 2.5447 - accuracy: 0.1172 - precision: 0.0000e+00 - val_loss: 2.5467 - val_accuracy: 0.1291 - val_precision: 0.0000e+00\n",
      "Epoch 34/200\n",
      "159/159 [==============================] - 2s 11ms/step - loss: 2.5365 - accuracy: 0.1122 - precision: 0.0000e+00 - val_loss: 2.5463 - val_accuracy: 0.1205 - val_precision: 0.0000e+00\n",
      "Epoch 35/200\n",
      "158/159 [============================>.] - ETA: 0s - loss: 2.5393 - accuracy: 0.1112 - precision: 0.7143\n",
      "Epoch 00035: saving model to ./output/callback/35-weight-validation-loss-2.5426.hdf5\n",
      "159/159 [==============================] - 2s 12ms/step - loss: 2.5388 - accuracy: 0.1109 - precision: 0.7143 - val_loss: 2.5426 - val_accuracy: 0.1189 - val_precision: 0.0000e+00\n"
     ]
    },
    {
     "name": "stdout",
     "output_type": "stream",
     "text": [
      "Epoch 36/200\n",
      "159/159 [==============================] - 2s 10ms/step - loss: 2.5337 - accuracy: 0.1117 - precision: 0.7500 - val_loss: 2.5409 - val_accuracy: 0.1244 - val_precision: 0.0000e+00\n",
      "Epoch 37/200\n",
      "159/159 [==============================] - 2s 13ms/step - loss: 2.5382 - accuracy: 0.1154 - precision: 0.2000 - val_loss: 2.5381 - val_accuracy: 0.1197 - val_precision: 0.0000e+00\n",
      "Epoch 38/200\n",
      "159/159 [==============================] - 2s 12ms/step - loss: 2.5313 - accuracy: 0.1158 - precision: 0.4286 - val_loss: 2.5397 - val_accuracy: 0.1236 - val_precision: 0.0000e+00\n",
      "Epoch 39/200\n",
      "159/159 [==============================] - 2s 12ms/step - loss: 2.5317 - accuracy: 0.1231 - precision: 0.5000 - val_loss: 2.5407 - val_accuracy: 0.1213 - val_precision: 0.0000e+00\n",
      "Epoch 40/200\n",
      "158/159 [============================>.] - ETA: 0s - loss: 2.5271 - accuracy: 0.1123 - precision: 0.6000\n",
      "Epoch 00040: saving model to ./output/callback/40-weight-validation-loss-2.5394.hdf5\n",
      "159/159 [==============================] - 2s 13ms/step - loss: 2.5276 - accuracy: 0.1122 - precision: 0.6000 - val_loss: 2.5394 - val_accuracy: 0.1197 - val_precision: 0.0000e+00\n",
      "Epoch 41/200\n",
      "159/159 [==============================] - 2s 10ms/step - loss: 2.5260 - accuracy: 0.1213 - precision: 0.5000 - val_loss: 2.5382 - val_accuracy: 0.1134 - val_precision: 0.0000e+00\n",
      "Epoch 42/200\n",
      "159/159 [==============================] - 1s 9ms/step - loss: 2.5304 - accuracy: 0.1146 - precision: 0.0000e+00 - val_loss: 2.5364 - val_accuracy: 0.1197 - val_precision: 0.0000e+00\n",
      "Epoch 43/200\n",
      "159/159 [==============================] - 2s 10ms/step - loss: 2.5249 - accuracy: 0.1243 - precision: 0.5000 - val_loss: 2.5346 - val_accuracy: 0.1252 - val_precision: 0.0000e+00\n",
      "Epoch 44/200\n",
      "159/159 [==============================] - 2s 11ms/step - loss: 2.5231 - accuracy: 0.1227 - precision: 0.7500 - val_loss: 2.5370 - val_accuracy: 0.1142 - val_precision: 0.0000e+00\n",
      "Epoch 45/200\n",
      "153/159 [===========================>..] - ETA: 0s - loss: 2.5213 - accuracy: 0.1213 - precision: 0.5000\n",
      "Epoch 00045: saving model to ./output/callback/45-weight-validation-loss-2.5343.hdf5\n",
      "159/159 [==============================] - 1s 9ms/step - loss: 2.5211 - accuracy: 0.1217 - precision: 0.6000 - val_loss: 2.5343 - val_accuracy: 0.1213 - val_precision: 0.0000e+00\n",
      "Epoch 46/200\n",
      "159/159 [==============================] - 1s 9ms/step - loss: 2.5237 - accuracy: 0.1117 - precision: 1.0000 - val_loss: 2.5343 - val_accuracy: 0.1197 - val_precision: 0.0000e+00\n",
      "Epoch 47/200\n",
      "159/159 [==============================] - 2s 10ms/step - loss: 2.5191 - accuracy: 0.1184 - precision: 0.8333 - val_loss: 2.5362 - val_accuracy: 0.1213 - val_precision: 0.0000e+00\n",
      "Epoch 48/200\n",
      "159/159 [==============================] - 1s 9ms/step - loss: 2.5175 - accuracy: 0.1231 - precision: 0.5000 - val_loss: 2.5338 - val_accuracy: 0.1252 - val_precision: 0.0000e+00\n",
      "Epoch 49/200\n",
      "159/159 [==============================] - 2s 10ms/step - loss: 2.5149 - accuracy: 0.1241 - precision: 0.6667 - val_loss: 2.5342 - val_accuracy: 0.1150 - val_precision: 0.0000e+00\n",
      "Epoch 50/200\n",
      "154/159 [============================>.] - ETA: 0s - loss: 2.5168 - accuracy: 0.1264 - precision: 0.2857\n",
      "Epoch 00050: saving model to ./output/callback/50-weight-validation-loss-2.5336.hdf5\n",
      "159/159 [==============================] - 1s 9ms/step - loss: 2.5152 - accuracy: 0.1268 - precision: 0.3750 - val_loss: 2.5336 - val_accuracy: 0.1244 - val_precision: 0.0000e+00\n",
      "Epoch 51/200\n",
      "159/159 [==============================] - 2s 11ms/step - loss: 2.5080 - accuracy: 0.1207 - precision: 0.5000 - val_loss: 2.5311 - val_accuracy: 0.1102 - val_precision: 0.0000e+00\n",
      "Epoch 52/200\n",
      "159/159 [==============================] - 2s 10ms/step - loss: 2.5129 - accuracy: 0.1284 - precision: 0.5000 - val_loss: 2.5327 - val_accuracy: 0.1228 - val_precision: 0.0000e+00\n",
      "Epoch 53/200\n",
      "159/159 [==============================] - 1s 9ms/step - loss: 2.5093 - accuracy: 0.1272 - precision: 0.4000 - val_loss: 2.5285 - val_accuracy: 0.1228 - val_precision: 0.0000e+00\n",
      "Epoch 54/200\n",
      "159/159 [==============================] - 2s 10ms/step - loss: 2.5125 - accuracy: 0.1247 - precision: 0.8333 - val_loss: 2.5279 - val_accuracy: 0.1244 - val_precision: 0.0000e+00\n",
      "Epoch 55/200\n",
      "157/159 [============================>.] - ETA: 0s - loss: 2.5089 - accuracy: 0.1318 - precision: 0.4286\n",
      "Epoch 00055: saving model to ./output/callback/55-weight-validation-loss-2.5269.hdf5\n",
      "159/159 [==============================] - 2s 11ms/step - loss: 2.5094 - accuracy: 0.1310 - precision: 0.3750 - val_loss: 2.5269 - val_accuracy: 0.1189 - val_precision: 0.0000e+00\n",
      "Epoch 56/200\n",
      "159/159 [==============================] - 2s 11ms/step - loss: 2.5056 - accuracy: 0.1247 - precision: 0.5714 - val_loss: 2.5277 - val_accuracy: 0.1244 - val_precision: 0.0000e+00\n",
      "Epoch 57/200\n",
      "159/159 [==============================] - 2s 11ms/step - loss: 2.5097 - accuracy: 0.1274 - precision: 1.0000 - val_loss: 2.5283 - val_accuracy: 0.1228 - val_precision: 0.0000e+00\n",
      "Epoch 58/200\n",
      "159/159 [==============================] - 2s 11ms/step - loss: 2.4985 - accuracy: 0.1343 - precision: 0.6250 - val_loss: 2.5255 - val_accuracy: 0.1213 - val_precision: 0.0000e+00\n",
      "Epoch 59/200\n",
      "159/159 [==============================] - 2s 11ms/step - loss: 2.5008 - accuracy: 0.1266 - precision: 0.6667 - val_loss: 2.5259 - val_accuracy: 0.1197 - val_precision: 0.0000e+00\n",
      "Epoch 60/200\n",
      "153/159 [===========================>..] - ETA: 0s - loss: 2.5009 - accuracy: 0.1232 - precision: 0.5556\n",
      "Epoch 00060: saving model to ./output/callback/60-weight-validation-loss-2.5243.hdf5\n",
      "159/159 [==============================] - 1s 9ms/step - loss: 2.4997 - accuracy: 0.1225 - precision: 0.5556 - val_loss: 2.5243 - val_accuracy: 0.1189 - val_precision: 0.0000e+00\n",
      "Epoch 61/200\n",
      "159/159 [==============================] - 2s 10ms/step - loss: 2.5004 - accuracy: 0.1296 - precision: 0.3333 - val_loss: 2.5263 - val_accuracy: 0.1260 - val_precision: 0.0000e+00\n",
      "Epoch 62/200\n",
      "159/159 [==============================] - 1s 9ms/step - loss: 2.4991 - accuracy: 0.1302 - precision: 0.6250 - val_loss: 2.5228 - val_accuracy: 0.1181 - val_precision: 0.0000e+00\n",
      "Epoch 63/200\n",
      "159/159 [==============================] - 1s 8ms/step - loss: 2.5040 - accuracy: 0.1207 - precision: 0.6250 - val_loss: 2.5263 - val_accuracy: 0.1213 - val_precision: 0.0000e+00\n",
      "Epoch 64/200\n",
      "159/159 [==============================] - 2s 10ms/step - loss: 2.4977 - accuracy: 0.1325 - precision: 0.6667 - val_loss: 2.5240 - val_accuracy: 0.1260 - val_precision: 0.0000e+00\n",
      "Epoch 65/200\n",
      "152/159 [===========================>..] - ETA: 0s - loss: 2.4968 - accuracy: 0.1377 - precision: 0.5000\n",
      "Epoch 00065: saving model to ./output/callback/65-weight-validation-loss-2.5260.hdf5\n",
      "159/159 [==============================] - 2s 10ms/step - loss: 2.4965 - accuracy: 0.1380 - precision: 0.5000 - val_loss: 2.5260 - val_accuracy: 0.1260 - val_precision: 0.0000e+00\n",
      "Epoch 66/200\n",
      "159/159 [==============================] - 1s 8ms/step - loss: 2.4961 - accuracy: 0.1321 - precision: 0.7273 - val_loss: 2.5205 - val_accuracy: 0.1268 - val_precision: 0.0000e+00\n",
      "Epoch 67/200\n",
      "159/159 [==============================] - 2s 10ms/step - loss: 2.4931 - accuracy: 0.1249 - precision: 0.6250 - val_loss: 2.5196 - val_accuracy: 0.1299 - val_precision: 0.0000e+00\n",
      "Epoch 68/200\n",
      "159/159 [==============================] - 1s 9ms/step - loss: 2.4898 - accuracy: 0.1335 - precision: 0.5000 - val_loss: 2.5171 - val_accuracy: 0.1205 - val_precision: 0.0000e+00\n",
      "Epoch 69/200\n",
      "159/159 [==============================] - 1s 8ms/step - loss: 2.4847 - accuracy: 0.1314 - precision: 0.7000 - val_loss: 2.5197 - val_accuracy: 0.1299 - val_precision: 0.0000e+00\n",
      "Epoch 70/200\n",
      "154/159 [============================>.] - ETA: 0s - loss: 2.4903 - accuracy: 0.1331 - precision: 0.7273\n",
      "Epoch 00070: saving model to ./output/callback/70-weight-validation-loss-2.5169.hdf5\n",
      "159/159 [==============================] - 2s 9ms/step - loss: 2.4898 - accuracy: 0.1339 - precision: 0.6667 - val_loss: 2.5169 - val_accuracy: 0.1244 - val_precision: 0.0000e+00\n",
      "Epoch 71/200\n",
      "159/159 [==============================] - 2s 10ms/step - loss: 2.4826 - accuracy: 0.1355 - precision: 0.5833 - val_loss: 2.5191 - val_accuracy: 0.1315 - val_precision: 0.0000e+00\n",
      "Epoch 72/200\n",
      "159/159 [==============================] - 1s 9ms/step - loss: 2.4839 - accuracy: 0.1394 - precision: 0.6250 - val_loss: 2.5151 - val_accuracy: 0.1260 - val_precision: 0.0000e+00\n",
      "Epoch 73/200\n",
      "159/159 [==============================] - 2s 9ms/step - loss: 2.4858 - accuracy: 0.1331 - precision: 0.5714 - val_loss: 2.5140 - val_accuracy: 0.1205 - val_precision: 0.0000e+00\n",
      "Epoch 74/200\n",
      "159/159 [==============================] - 1s 9ms/step - loss: 2.4796 - accuracy: 0.1394 - precision: 0.8182 - val_loss: 2.5170 - val_accuracy: 0.1236 - val_precision: 0.0000e+00\n",
      "Epoch 75/200\n",
      "152/159 [===========================>..] - ETA: 0s - loss: 2.4776 - accuracy: 0.1394 - precision: 0.4667\n",
      "Epoch 00075: saving model to ./output/callback/75-weight-validation-loss-2.5185.hdf5\n",
      "159/159 [==============================] - 1s 9ms/step - loss: 2.4785 - accuracy: 0.1392 - precision: 0.4667 - val_loss: 2.5185 - val_accuracy: 0.1220 - val_precision: 0.0000e+00\n",
      "Epoch 76/200\n",
      "159/159 [==============================] - 1s 9ms/step - loss: 2.4833 - accuracy: 0.1300 - precision: 0.1818 - val_loss: 2.5168 - val_accuracy: 0.1260 - val_precision: 0.0000e+00\n",
      "Epoch 77/200\n",
      "159/159 [==============================] - 1s 9ms/step - loss: 2.4825 - accuracy: 0.1315 - precision: 0.6667 - val_loss: 2.5138 - val_accuracy: 0.1276 - val_precision: 0.0000e+00\n",
      "Epoch 78/200\n",
      "159/159 [==============================] - 1s 9ms/step - loss: 2.4771 - accuracy: 0.1449 - precision: 0.7143 - val_loss: 2.5116 - val_accuracy: 0.1268 - val_precision: 0.0000e+00\n",
      "Epoch 79/200\n",
      "159/159 [==============================] - 1s 9ms/step - loss: 2.4818 - accuracy: 0.1420 - precision: 0.6667 - val_loss: 2.5123 - val_accuracy: 0.1252 - val_precision: 0.0000e+00\n",
      "Epoch 80/200\n",
      "154/159 [============================>.] - ETA: 0s - loss: 2.4788 - accuracy: 0.1429 - precision: 0.4667\n",
      "Epoch 00080: saving model to ./output/callback/80-weight-validation-loss-2.5107.hdf5\n",
      "159/159 [==============================] - 2s 10ms/step - loss: 2.4777 - accuracy: 0.1430 - precision: 0.4667 - val_loss: 2.5107 - val_accuracy: 0.1291 - val_precision: 0.0000e+00\n",
      "Epoch 81/200\n",
      "159/159 [==============================] - 1s 9ms/step - loss: 2.4734 - accuracy: 0.1398 - precision: 0.6154 - val_loss: 2.5159 - val_accuracy: 0.1260 - val_precision: 0.0000e+00\n",
      "Epoch 82/200\n",
      "159/159 [==============================] - 2s 10ms/step - loss: 2.4678 - accuracy: 0.1396 - precision: 0.6111 - val_loss: 2.5115 - val_accuracy: 0.1307 - val_precision: 0.0000e+00\n",
      "Epoch 83/200\n",
      "159/159 [==============================] - 2s 10ms/step - loss: 2.4697 - accuracy: 0.1371 - precision: 0.6667 - val_loss: 2.5117 - val_accuracy: 0.1276 - val_precision: 0.0000e+00\n",
      "Epoch 84/200\n",
      "159/159 [==============================] - 1s 9ms/step - loss: 2.4729 - accuracy: 0.1424 - precision: 0.5789 - val_loss: 2.5119 - val_accuracy: 0.1276 - val_precision: 0.0000e+00\n",
      "Epoch 85/200\n",
      "158/159 [============================>.] - ETA: 0s - loss: 2.4647 - accuracy: 0.1444 - precision: 0.6000\n",
      "Epoch 00085: saving model to ./output/callback/85-weight-validation-loss-2.5095.hdf5\n",
      "159/159 [==============================] - 2s 10ms/step - loss: 2.4642 - accuracy: 0.1445 - precision: 0.6000 - val_loss: 2.5095 - val_accuracy: 0.1260 - val_precision: 0.0000e+00\n",
      "Epoch 86/200\n",
      "159/159 [==============================] - 1s 9ms/step - loss: 2.4682 - accuracy: 0.1424 - precision: 0.7500 - val_loss: 2.5093 - val_accuracy: 0.1236 - val_precision: 0.0000e+00\n",
      "Epoch 87/200\n",
      "159/159 [==============================] - 2s 10ms/step - loss: 2.4593 - accuracy: 0.1424 - precision: 0.5455 - val_loss: 2.5086 - val_accuracy: 0.1315 - val_precision: 0.0000e+00\n",
      "Epoch 88/200\n",
      "159/159 [==============================] - 2s 10ms/step - loss: 2.4681 - accuracy: 0.1506 - precision: 0.5789 - val_loss: 2.5091 - val_accuracy: 0.1236 - val_precision: 0.0000e+00\n",
      "Epoch 89/200\n",
      "159/159 [==============================] - 1s 9ms/step - loss: 2.4618 - accuracy: 0.1497 - precision: 0.6667 - val_loss: 2.5151 - val_accuracy: 0.1268 - val_precision: 0.0000e+00\n",
      "Epoch 90/200\n",
      "156/159 [============================>.] - ETA: 0s - loss: 2.4688 - accuracy: 0.1398 - precision: 0.7000\n",
      "Epoch 00090: saving model to ./output/callback/90-weight-validation-loss-2.5089.hdf5\n",
      "159/159 [==============================] - 2s 11ms/step - loss: 2.4690 - accuracy: 0.1400 - precision: 0.7000 - val_loss: 2.5089 - val_accuracy: 0.1260 - val_precision: 0.0000e+00\n",
      "Epoch 91/200\n",
      "159/159 [==============================] - 2s 10ms/step - loss: 2.4506 - accuracy: 0.1542 - precision: 0.6522 - val_loss: 2.5101 - val_accuracy: 0.1315 - val_precision: 0.0000e+00\n",
      "Epoch 92/200\n",
      "159/159 [==============================] - 1s 9ms/step - loss: 2.4642 - accuracy: 0.1371 - precision: 0.5500 - val_loss: 2.5070 - val_accuracy: 0.1315 - val_precision: 0.0000e+00\n",
      "Epoch 93/200\n",
      "159/159 [==============================] - 1s 9ms/step - loss: 2.4606 - accuracy: 0.1540 - precision: 0.6667 - val_loss: 2.5081 - val_accuracy: 0.1228 - val_precision: 0.0000e+00\n",
      "Epoch 94/200\n",
      "159/159 [==============================] - 1s 8ms/step - loss: 2.4607 - accuracy: 0.1434 - precision: 0.8333 - val_loss: 2.5083 - val_accuracy: 0.1260 - val_precision: 0.0000e+00\n",
      "Epoch 95/200\n",
      "158/159 [============================>.] - ETA: 0s - loss: 2.4571 - accuracy: 0.1493 - precision: 0.6190\n",
      "Epoch 00095: saving model to ./output/callback/95-weight-validation-loss-2.5072.hdf5\n",
      "159/159 [==============================] - 2s 10ms/step - loss: 2.4570 - accuracy: 0.1495 - precision: 0.6190 - val_loss: 2.5072 - val_accuracy: 0.1323 - val_precision: 0.0000e+00\n",
      "Epoch 96/200\n",
      "159/159 [==============================] - 1s 8ms/step - loss: 2.4528 - accuracy: 0.1508 - precision: 0.5000 - val_loss: 2.5097 - val_accuracy: 0.1346 - val_precision: 0.0000e+00\n",
      "Epoch 97/200\n",
      "159/159 [==============================] - 1s 9ms/step - loss: 2.4516 - accuracy: 0.1499 - precision: 0.6818 - val_loss: 2.5027 - val_accuracy: 0.1276 - val_precision: 0.0000e+00\n",
      "Epoch 98/200\n",
      "159/159 [==============================] - 1s 9ms/step - loss: 2.4504 - accuracy: 0.1522 - precision: 0.6316 - val_loss: 2.5025 - val_accuracy: 0.1323 - val_precision: 0.0000e+00\n",
      "Epoch 99/200\n",
      "159/159 [==============================] - 2s 10ms/step - loss: 2.4464 - accuracy: 0.1536 - precision: 0.6154 - val_loss: 2.5089 - val_accuracy: 0.1276 - val_precision: 0.0000e+00\n",
      "Epoch 100/200\n",
      "156/159 [============================>.] - ETA: 0s - loss: 2.4463 - accuracy: 0.1496 - precision: 0.6500\n",
      "Epoch 00100: saving model to ./output/callback/100-weight-validation-loss-2.5078.hdf5\n",
      "159/159 [==============================] - 2s 10ms/step - loss: 2.4466 - accuracy: 0.1499 - precision: 0.6500 - val_loss: 2.5078 - val_accuracy: 0.1346 - val_precision: 0.0000e+00\n",
      "Epoch 101/200\n",
      "159/159 [==============================] - 1s 9ms/step - loss: 2.4497 - accuracy: 0.1479 - precision: 0.6667 - val_loss: 2.5082 - val_accuracy: 0.1291 - val_precision: 0.0000e+00\n",
      "Epoch 102/200\n",
      "159/159 [==============================] - 2s 10ms/step - loss: 2.4417 - accuracy: 0.1552 - precision: 0.6522 - val_loss: 2.5101 - val_accuracy: 0.1283 - val_precision: 0.0000e+00\n",
      "Epoch 103/200\n",
      "159/159 [==============================] - 2s 11ms/step - loss: 2.4457 - accuracy: 0.1514 - precision: 0.5263 - val_loss: 2.5066 - val_accuracy: 0.1346 - val_precision: 0.0000e+00\n",
      "Epoch 104/200\n",
      "159/159 [==============================] - 1s 9ms/step - loss: 2.4450 - accuracy: 0.1554 - precision: 0.6364 - val_loss: 2.5055 - val_accuracy: 0.1244 - val_precision: 0.0000e+00\n",
      "Epoch 105/200\n",
      "153/159 [===========================>..] - ETA: 0s - loss: 2.4389 - accuracy: 0.1585 - precision: 0.5714\n",
      "Epoch 00105: saving model to ./output/callback/105-weight-validation-loss-2.5056.hdf5\n",
      "159/159 [==============================] - 1s 8ms/step - loss: 2.4399 - accuracy: 0.1589 - precision: 0.5714 - val_loss: 2.5056 - val_accuracy: 0.1268 - val_precision: 0.0000e+00\n",
      "Epoch 106/200\n",
      "159/159 [==============================] - 2s 10ms/step - loss: 2.4335 - accuracy: 0.1544 - precision: 0.6400 - val_loss: 2.5047 - val_accuracy: 0.1386 - val_precision: 0.0000e+00\n"
     ]
    },
    {
     "name": "stdout",
     "output_type": "stream",
     "text": [
      "Epoch 107/200\n",
      "159/159 [==============================] - 1s 9ms/step - loss: 2.4429 - accuracy: 0.1483 - precision: 0.5455 - val_loss: 2.5042 - val_accuracy: 0.1331 - val_precision: 0.0000e+00\n",
      "Epoch 108/200\n",
      "159/159 [==============================] - 1s 9ms/step - loss: 2.4375 - accuracy: 0.1589 - precision: 0.7500 - val_loss: 2.5031 - val_accuracy: 0.1228 - val_precision: 0.0000e+00\n",
      "Epoch 109/200\n",
      "159/159 [==============================] - 2s 11ms/step - loss: 2.4421 - accuracy: 0.1499 - precision: 0.6842 - val_loss: 2.5038 - val_accuracy: 0.1370 - val_precision: 0.0000e+00\n",
      "Epoch 110/200\n",
      "157/159 [============================>.] - ETA: 0s - loss: 2.4316 - accuracy: 0.1594 - precision: 0.7241\n",
      "Epoch 00110: saving model to ./output/callback/110-weight-validation-loss-2.5003.hdf5\n",
      "159/159 [==============================] - 2s 11ms/step - loss: 2.4315 - accuracy: 0.1589 - precision: 0.7241 - val_loss: 2.5003 - val_accuracy: 0.1220 - val_precision: 0.0000e+00\n",
      "Epoch 111/200\n",
      "159/159 [==============================] - 1s 9ms/step - loss: 2.4275 - accuracy: 0.1583 - precision: 0.6250 - val_loss: 2.5017 - val_accuracy: 0.1220 - val_precision: 0.0000e+00\n",
      "Epoch 112/200\n",
      "159/159 [==============================] - 1s 9ms/step - loss: 2.4281 - accuracy: 0.1573 - precision: 0.6522 - val_loss: 2.4999 - val_accuracy: 0.1370 - val_precision: 0.0000e+00\n",
      "Epoch 113/200\n",
      "159/159 [==============================] - 2s 11ms/step - loss: 2.4327 - accuracy: 0.1581 - precision: 0.5484 - val_loss: 2.5039 - val_accuracy: 0.1268 - val_precision: 0.0000e+00\n",
      "Epoch 114/200\n",
      "159/159 [==============================] - 2s 11ms/step - loss: 2.4302 - accuracy: 0.1546 - precision: 0.6818 - val_loss: 2.5038 - val_accuracy: 0.1307 - val_precision: 0.0000e+00\n",
      "Epoch 115/200\n",
      "152/159 [===========================>..] - ETA: 0s - loss: 2.4249 - accuracy: 0.1614 - precision: 0.5714\n",
      "Epoch 00115: saving model to ./output/callback/115-weight-validation-loss-2.4988.hdf5\n",
      "159/159 [==============================] - 2s 10ms/step - loss: 2.4276 - accuracy: 0.1607 - precision: 0.5714 - val_loss: 2.4988 - val_accuracy: 0.1276 - val_precision: 0.0000e+00\n",
      "Epoch 116/200\n",
      "159/159 [==============================] - 1s 9ms/step - loss: 2.4197 - accuracy: 0.1625 - precision: 0.6071 - val_loss: 2.4976 - val_accuracy: 0.1291 - val_precision: 0.0000e+00\n",
      "Epoch 117/200\n",
      "159/159 [==============================] - 2s 10ms/step - loss: 2.4114 - accuracy: 0.1636 - precision: 0.7188 - val_loss: 2.4974 - val_accuracy: 0.1323 - val_precision: 0.0000e+00\n",
      "Epoch 118/200\n",
      "159/159 [==============================] - 2s 10ms/step - loss: 2.4227 - accuracy: 0.1631 - precision: 0.5714 - val_loss: 2.5019 - val_accuracy: 0.1307 - val_precision: 0.0000e+00\n",
      "Epoch 119/200\n",
      "159/159 [==============================] - 2s 10ms/step - loss: 2.4165 - accuracy: 0.1615 - precision: 0.5676 - val_loss: 2.4998 - val_accuracy: 0.1331 - val_precision: 0.0000e+00\n",
      "Epoch 120/200\n",
      "158/159 [============================>.] - ETA: 0s - loss: 2.4220 - accuracy: 0.1622 - precision: 0.5333\n",
      "Epoch 00120: saving model to ./output/callback/120-weight-validation-loss-2.4997.hdf5\n",
      "159/159 [==============================] - 1s 9ms/step - loss: 2.4217 - accuracy: 0.1623 - precision: 0.5333 - val_loss: 2.4997 - val_accuracy: 0.1307 - val_precision: 0.0000e+00\n",
      "Epoch 121/200\n",
      "159/159 [==============================] - 2s 10ms/step - loss: 2.4209 - accuracy: 0.1662 - precision: 0.7143 - val_loss: 2.5002 - val_accuracy: 0.1252 - val_precision: 0.0000e+00\n",
      "Epoch 122/200\n",
      "159/159 [==============================] - 2s 10ms/step - loss: 2.4175 - accuracy: 0.1664 - precision: 0.6923 - val_loss: 2.4980 - val_accuracy: 0.1228 - val_precision: 0.0000e+00\n",
      "Epoch 123/200\n",
      "159/159 [==============================] - 1s 9ms/step - loss: 2.4187 - accuracy: 0.1629 - precision: 0.8696 - val_loss: 2.4988 - val_accuracy: 0.1354 - val_precision: 0.0000e+00\n",
      "Epoch 124/200\n",
      "159/159 [==============================] - 1s 9ms/step - loss: 2.4221 - accuracy: 0.1558 - precision: 0.7143 - val_loss: 2.4999 - val_accuracy: 0.1197 - val_precision: 0.0000e+00\n",
      "Epoch 125/200\n",
      "155/159 [============================>.] - ETA: 0s - loss: 2.4082 - accuracy: 0.1639 - precision: 0.7600\n",
      "Epoch 00125: saving model to ./output/callback/125-weight-validation-loss-2.5006.hdf5\n",
      "159/159 [==============================] - 2s 10ms/step - loss: 2.4096 - accuracy: 0.1627 - precision: 0.7692 - val_loss: 2.5006 - val_accuracy: 0.1346 - val_precision: 0.0000e+00\n",
      "Epoch 126/200\n",
      "159/159 [==============================] - 1s 9ms/step - loss: 2.4130 - accuracy: 0.1656 - precision: 0.5806 - val_loss: 2.4977 - val_accuracy: 0.1402 - val_precision: 0.0000e+00\n",
      "Epoch 127/200\n",
      "159/159 [==============================] - 2s 10ms/step - loss: 2.4081 - accuracy: 0.1601 - precision: 0.6842 - val_loss: 2.4997 - val_accuracy: 0.1354 - val_precision: 0.0000e+00\n",
      "Epoch 128/200\n",
      "159/159 [==============================] - 2s 10ms/step - loss: 2.4091 - accuracy: 0.1692 - precision: 0.6667 - val_loss: 2.4960 - val_accuracy: 0.1244 - val_precision: 0.0000e+00\n",
      "Epoch 129/200\n",
      "159/159 [==============================] - 2s 11ms/step - loss: 2.4064 - accuracy: 0.1703 - precision: 0.6286 - val_loss: 2.4984 - val_accuracy: 0.1236 - val_precision: 0.0000e+00\n",
      "Epoch 130/200\n",
      "152/159 [===========================>..] - ETA: 0s - loss: 2.4072 - accuracy: 0.1626 - precision: 0.6364\n",
      "Epoch 00130: saving model to ./output/callback/130-weight-validation-loss-2.5009.hdf5\n",
      "159/159 [==============================] - 2s 11ms/step - loss: 2.4076 - accuracy: 0.1629 - precision: 0.6286 - val_loss: 2.5009 - val_accuracy: 0.1252 - val_precision: 0.0000e+00\n",
      "Epoch 131/200\n",
      "159/159 [==============================] - 2s 10ms/step - loss: 2.4120 - accuracy: 0.1605 - precision: 0.7576 - val_loss: 2.4965 - val_accuracy: 0.1268 - val_precision: 0.0000e+00\n",
      "Epoch 132/200\n",
      "159/159 [==============================] - 1s 9ms/step - loss: 2.4028 - accuracy: 0.1747 - precision: 0.6216 - val_loss: 2.4925 - val_accuracy: 0.1307 - val_precision: 0.0000e+00\n",
      "Epoch 133/200\n",
      "159/159 [==============================] - 1s 9ms/step - loss: 2.4067 - accuracy: 0.1658 - precision: 0.6970 - val_loss: 2.4967 - val_accuracy: 0.1220 - val_precision: 0.0000e+00\n",
      "Epoch 134/200\n",
      "159/159 [==============================] - 1s 9ms/step - loss: 2.4003 - accuracy: 0.1761 - precision: 0.8667 - val_loss: 2.4913 - val_accuracy: 0.1307 - val_precision: 0.0000e+00\n",
      "Epoch 135/200\n",
      "157/159 [============================>.] - ETA: 0s - loss: 2.4002 - accuracy: 0.1726 - precision: 0.5455\n",
      "Epoch 00135: saving model to ./output/callback/135-weight-validation-loss-2.4927.hdf5\n",
      "159/159 [==============================] - 1s 9ms/step - loss: 2.4005 - accuracy: 0.1727 - precision: 0.5455 - val_loss: 2.4927 - val_accuracy: 0.1276 - val_precision: 0.0000e+00\n",
      "Epoch 136/200\n",
      "159/159 [==============================] - 2s 10ms/step - loss: 2.3862 - accuracy: 0.1684 - precision: 0.6750 - val_loss: 2.4964 - val_accuracy: 0.1283 - val_precision: 0.0000e+00\n",
      "Epoch 137/200\n",
      "159/159 [==============================] - 1s 9ms/step - loss: 2.3967 - accuracy: 0.1688 - precision: 0.7500 - val_loss: 2.4898 - val_accuracy: 0.1228 - val_precision: 0.3333\n",
      "Epoch 138/200\n",
      "159/159 [==============================] - 1s 9ms/step - loss: 2.4006 - accuracy: 0.1727 - precision: 0.7143 - val_loss: 2.4966 - val_accuracy: 0.1362 - val_precision: 0.0000e+00\n",
      "Epoch 139/200\n",
      "159/159 [==============================] - 1s 9ms/step - loss: 2.3946 - accuracy: 0.1739 - precision: 0.7234 - val_loss: 2.4938 - val_accuracy: 0.1299 - val_precision: 0.0000e+00\n",
      "Epoch 140/200\n",
      "155/159 [============================>.] - ETA: 0s - loss: 2.3940 - accuracy: 0.1742 - precision: 0.6486\n",
      "Epoch 00140: saving model to ./output/callback/140-weight-validation-loss-2.4934.hdf5\n",
      "159/159 [==============================] - 1s 9ms/step - loss: 2.3948 - accuracy: 0.1729 - precision: 0.6486 - val_loss: 2.4934 - val_accuracy: 0.1189 - val_precision: 0.0000e+00\n",
      "Epoch 141/200\n",
      "159/159 [==============================] - 1s 9ms/step - loss: 2.3900 - accuracy: 0.1766 - precision: 0.8485 - val_loss: 2.4904 - val_accuracy: 0.1268 - val_precision: 0.2000\n",
      "Epoch 142/200\n",
      "159/159 [==============================] - 2s 10ms/step - loss: 2.3900 - accuracy: 0.1772 - precision: 0.5682 - val_loss: 2.4929 - val_accuracy: 0.1236 - val_precision: 0.0000e+00\n",
      "Epoch 143/200\n",
      "159/159 [==============================] - 2s 10ms/step - loss: 2.3995 - accuracy: 0.1688 - precision: 0.6889 - val_loss: 2.4933 - val_accuracy: 0.1268 - val_precision: 0.2500\n",
      "Epoch 144/200\n",
      "159/159 [==============================] - 1s 8ms/step - loss: 2.3873 - accuracy: 0.1739 - precision: 0.6486 - val_loss: 2.4875 - val_accuracy: 0.1339 - val_precision: 0.2000\n",
      "Epoch 145/200\n",
      "157/159 [============================>.] - ETA: 0s - loss: 2.3918 - accuracy: 0.1726 - precision: 0.6667\n",
      "Epoch 00145: saving model to ./output/callback/145-weight-validation-loss-2.4908.hdf5\n",
      "159/159 [==============================] - 2s 10ms/step - loss: 2.3905 - accuracy: 0.1741 - precision: 0.6667 - val_loss: 2.4908 - val_accuracy: 0.1260 - val_precision: 0.2000\n",
      "Epoch 146/200\n",
      "159/159 [==============================] - 1s 9ms/step - loss: 2.3916 - accuracy: 0.1709 - precision: 0.6667 - val_loss: 2.4966 - val_accuracy: 0.1283 - val_precision: 0.0000e+00\n",
      "Epoch 147/200\n",
      "159/159 [==============================] - 2s 10ms/step - loss: 2.3817 - accuracy: 0.1727 - precision: 0.6957 - val_loss: 2.4868 - val_accuracy: 0.1291 - val_precision: 0.0000e+00\n",
      "Epoch 148/200\n",
      "159/159 [==============================] - 2s 10ms/step - loss: 2.3848 - accuracy: 0.1709 - precision: 0.6591 - val_loss: 2.4955 - val_accuracy: 0.1220 - val_precision: 0.0000e+00\n",
      "Epoch 149/200\n",
      "159/159 [==============================] - 1s 8ms/step - loss: 2.3822 - accuracy: 0.1820 - precision: 0.6889 - val_loss: 2.4906 - val_accuracy: 0.1291 - val_precision: 0.0000e+00\n",
      "Epoch 150/200\n",
      "154/159 [============================>.] - ETA: 0s - loss: 2.3869 - accuracy: 0.1703 - precision: 0.7500\n",
      "Epoch 00150: saving model to ./output/callback/150-weight-validation-loss-2.4879.hdf5\n",
      "159/159 [==============================] - 2s 10ms/step - loss: 2.3885 - accuracy: 0.1707 - precision: 0.7547 - val_loss: 2.4879 - val_accuracy: 0.1252 - val_precision: 0.0000e+00\n",
      "Epoch 151/200\n",
      "159/159 [==============================] - 2s 10ms/step - loss: 2.3851 - accuracy: 0.1743 - precision: 0.7500 - val_loss: 2.4925 - val_accuracy: 0.1276 - val_precision: 0.1667\n",
      "Epoch 152/200\n",
      "159/159 [==============================] - 2s 11ms/step - loss: 2.3686 - accuracy: 0.1786 - precision: 0.6604 - val_loss: 2.4916 - val_accuracy: 0.1339 - val_precision: 0.1667\n",
      "Epoch 153/200\n",
      "159/159 [==============================] - 1s 9ms/step - loss: 2.3771 - accuracy: 0.1786 - precision: 0.6667 - val_loss: 2.4928 - val_accuracy: 0.1323 - val_precision: 0.2500\n",
      "Epoch 154/200\n",
      "159/159 [==============================] - 1s 8ms/step - loss: 2.3801 - accuracy: 0.1723 - precision: 0.7021 - val_loss: 2.4881 - val_accuracy: 0.1354 - val_precision: 0.0000e+00\n",
      "Epoch 155/200\n",
      "155/159 [============================>.] - ETA: 0s - loss: 2.3820 - accuracy: 0.1756 - precision: 0.6400\n",
      "Epoch 00155: saving model to ./output/callback/155-weight-validation-loss-2.4881.hdf5\n",
      "159/159 [==============================] - 2s 9ms/step - loss: 2.3819 - accuracy: 0.1766 - precision: 0.6538 - val_loss: 2.4881 - val_accuracy: 0.1315 - val_precision: 0.0000e+00\n",
      "Epoch 156/200\n",
      "159/159 [==============================] - 1s 9ms/step - loss: 2.3680 - accuracy: 0.1835 - precision: 0.7255 - val_loss: 2.4876 - val_accuracy: 0.1307 - val_precision: 0.0000e+00\n",
      "Epoch 157/200\n",
      "159/159 [==============================] - 2s 10ms/step - loss: 2.3763 - accuracy: 0.1741 - precision: 0.6897 - val_loss: 2.4886 - val_accuracy: 0.1276 - val_precision: 0.0000e+00\n",
      "Epoch 158/200\n",
      "159/159 [==============================] - 2s 10ms/step - loss: 2.3615 - accuracy: 0.1835 - precision: 0.7755 - val_loss: 2.4881 - val_accuracy: 0.1283 - val_precision: 0.2500\n",
      "Epoch 159/200\n",
      "159/159 [==============================] - 2s 10ms/step - loss: 2.3718 - accuracy: 0.1827 - precision: 0.6809 - val_loss: 2.4873 - val_accuracy: 0.1339 - val_precision: 0.0000e+00\n",
      "Epoch 160/200\n",
      "155/159 [============================>.] - ETA: 0s - loss: 2.3575 - accuracy: 0.1833 - precision: 0.7451\n",
      "Epoch 00160: saving model to ./output/callback/160-weight-validation-loss-2.4880.hdf5\n",
      "159/159 [==============================] - 1s 9ms/step - loss: 2.3577 - accuracy: 0.1845 - precision: 0.7358 - val_loss: 2.4880 - val_accuracy: 0.1291 - val_precision: 0.1667\n",
      "Epoch 161/200\n",
      "159/159 [==============================] - 2s 10ms/step - loss: 2.3661 - accuracy: 0.1845 - precision: 0.7222 - val_loss: 2.4864 - val_accuracy: 0.1362 - val_precision: 0.2500\n",
      "Epoch 162/200\n",
      "159/159 [==============================] - 2s 10ms/step - loss: 2.3681 - accuracy: 0.1839 - precision: 0.6780 - val_loss: 2.4888 - val_accuracy: 0.1268 - val_precision: 0.0000e+00\n",
      "Epoch 163/200\n",
      "159/159 [==============================] - 1s 9ms/step - loss: 2.3641 - accuracy: 0.1851 - precision: 0.7377 - val_loss: 2.4860 - val_accuracy: 0.1291 - val_precision: 0.2500\n",
      "Epoch 164/200\n",
      "159/159 [==============================] - 2s 9ms/step - loss: 2.3633 - accuracy: 0.1849 - precision: 0.6613 - val_loss: 2.4857 - val_accuracy: 0.1331 - val_precision: 0.0000e+00\n",
      "Epoch 165/200\n",
      "157/159 [============================>.] - ETA: 0s - loss: 2.3731 - accuracy: 0.1797 - precision: 0.6800\n",
      "Epoch 00165: saving model to ./output/callback/165-weight-validation-loss-2.4882.hdf5\n",
      "159/159 [==============================] - 2s 10ms/step - loss: 2.3740 - accuracy: 0.1792 - precision: 0.6800 - val_loss: 2.4882 - val_accuracy: 0.1315 - val_precision: 0.0000e+00\n",
      "Epoch 166/200\n",
      "159/159 [==============================] - 1s 9ms/step - loss: 2.3637 - accuracy: 0.1851 - precision: 0.6515 - val_loss: 2.4855 - val_accuracy: 0.1323 - val_precision: 0.0000e+00\n",
      "Epoch 167/200\n",
      "159/159 [==============================] - 1s 8ms/step - loss: 2.3585 - accuracy: 0.1859 - precision: 0.6324 - val_loss: 2.4869 - val_accuracy: 0.1362 - val_precision: 0.2500\n",
      "Epoch 168/200\n",
      "159/159 [==============================] - 2s 10ms/step - loss: 2.3603 - accuracy: 0.1837 - precision: 0.6154 - val_loss: 2.4853 - val_accuracy: 0.1378 - val_precision: 0.2000\n",
      "Epoch 169/200\n",
      "159/159 [==============================] - 1s 9ms/step - loss: 2.3576 - accuracy: 0.1883 - precision: 0.7714 - val_loss: 2.4858 - val_accuracy: 0.1402 - val_precision: 0.2500\n",
      "Epoch 170/200\n",
      "154/159 [============================>.] - ETA: 0s - loss: 2.3586 - accuracy: 0.1804 - precision: 0.6909\n",
      "Epoch 00170: saving model to ./output/callback/170-weight-validation-loss-2.4863.hdf5\n",
      "159/159 [==============================] - 2s 10ms/step - loss: 2.3566 - accuracy: 0.1810 - precision: 0.6964 - val_loss: 2.4863 - val_accuracy: 0.1362 - val_precision: 0.2000\n",
      "Epoch 171/200\n",
      "159/159 [==============================] - 2s 11ms/step - loss: 2.3520 - accuracy: 0.1910 - precision: 0.7000 - val_loss: 2.4859 - val_accuracy: 0.1378 - val_precision: 0.1667\n",
      "Epoch 172/200\n",
      "159/159 [==============================] - 1s 9ms/step - loss: 2.3464 - accuracy: 0.1865 - precision: 0.7286 - val_loss: 2.4823 - val_accuracy: 0.1362 - val_precision: 0.2000\n",
      "Epoch 173/200\n",
      "159/159 [==============================] - 2s 10ms/step - loss: 2.3502 - accuracy: 0.1829 - precision: 0.6190 - val_loss: 2.4871 - val_accuracy: 0.1378 - val_precision: 0.1429\n",
      "Epoch 174/200\n",
      "159/159 [==============================] - 2s 10ms/step - loss: 2.3524 - accuracy: 0.1859 - precision: 0.7377 - val_loss: 2.4826 - val_accuracy: 0.1394 - val_precision: 0.1667\n",
      "Epoch 175/200\n",
      "155/159 [============================>.] - ETA: 0s - loss: 2.3509 - accuracy: 0.1813 - precision: 0.7273\n",
      "Epoch 00175: saving model to ./output/callback/175-weight-validation-loss-2.4863.hdf5\n",
      "159/159 [==============================] - 2s 10ms/step - loss: 2.3521 - accuracy: 0.1812 - precision: 0.7342 - val_loss: 2.4863 - val_accuracy: 0.1339 - val_precision: 0.2000\n",
      "Epoch 176/200\n",
      "159/159 [==============================] - 2s 11ms/step - loss: 2.3414 - accuracy: 0.1932 - precision: 0.6757 - val_loss: 2.4838 - val_accuracy: 0.1291 - val_precision: 0.1429\n",
      "Epoch 177/200\n",
      "159/159 [==============================] - 1s 9ms/step - loss: 2.3457 - accuracy: 0.1843 - precision: 0.7101 - val_loss: 2.4875 - val_accuracy: 0.1315 - val_precision: 0.0000e+00\n"
     ]
    },
    {
     "name": "stdout",
     "output_type": "stream",
     "text": [
      "Epoch 178/200\n",
      "159/159 [==============================] - 1s 9ms/step - loss: 2.3469 - accuracy: 0.1879 - precision: 0.6949 - val_loss: 2.4846 - val_accuracy: 0.1228 - val_precision: 0.0000e+00\n",
      "Epoch 179/200\n",
      "159/159 [==============================] - 2s 10ms/step - loss: 2.3418 - accuracy: 0.1857 - precision: 0.6094 - val_loss: 2.4812 - val_accuracy: 0.1386 - val_precision: 0.2000\n",
      "Epoch 180/200\n",
      "155/159 [============================>.] - ETA: 0s - loss: 2.3446 - accuracy: 0.1893 - precision: 0.5946\n",
      "Epoch 00180: saving model to ./output/callback/180-weight-validation-loss-2.4825.hdf5\n",
      "159/159 [==============================] - 1s 9ms/step - loss: 2.3432 - accuracy: 0.1900 - precision: 0.6000 - val_loss: 2.4825 - val_accuracy: 0.1378 - val_precision: 0.2000\n",
      "Epoch 181/200\n",
      "159/159 [==============================] - 1s 9ms/step - loss: 2.3433 - accuracy: 0.1955 - precision: 0.6286 - val_loss: 2.4823 - val_accuracy: 0.1354 - val_precision: 0.1667\n",
      "Epoch 182/200\n",
      "159/159 [==============================] - 2s 10ms/step - loss: 2.3439 - accuracy: 0.1863 - precision: 0.6000 - val_loss: 2.4858 - val_accuracy: 0.1346 - val_precision: 0.1667\n",
      "Epoch 183/200\n",
      "159/159 [==============================] - 2s 11ms/step - loss: 2.3329 - accuracy: 0.1928 - precision: 0.7391 - val_loss: 2.4800 - val_accuracy: 0.1362 - val_precision: 0.1667\n",
      "Epoch 184/200\n",
      "159/159 [==============================] - 2s 10ms/step - loss: 2.3400 - accuracy: 0.1845 - precision: 0.6429 - val_loss: 2.4838 - val_accuracy: 0.1362 - val_precision: 0.1667\n",
      "Epoch 185/200\n",
      "153/159 [===========================>..] - ETA: 0s - loss: 2.3305 - accuracy: 0.2042 - precision: 0.5952\n",
      "Epoch 00185: saving model to ./output/callback/185-weight-validation-loss-2.4813.hdf5\n",
      "159/159 [==============================] - 1s 8ms/step - loss: 2.3299 - accuracy: 0.2032 - precision: 0.5862 - val_loss: 2.4813 - val_accuracy: 0.1236 - val_precision: 0.1667\n",
      "Epoch 186/200\n",
      "159/159 [==============================] - 1s 9ms/step - loss: 2.3383 - accuracy: 0.1940 - precision: 0.7391 - val_loss: 2.4890 - val_accuracy: 0.1402 - val_precision: 0.2000\n",
      "Epoch 187/200\n",
      "159/159 [==============================] - 1s 9ms/step - loss: 2.3292 - accuracy: 0.1920 - precision: 0.6883 - val_loss: 2.4827 - val_accuracy: 0.1425 - val_precision: 0.1429\n",
      "Epoch 188/200\n",
      "159/159 [==============================] - 1s 9ms/step - loss: 2.3245 - accuracy: 0.2013 - precision: 0.6988 - val_loss: 2.4827 - val_accuracy: 0.1315 - val_precision: 0.1667\n",
      "Epoch 189/200\n",
      "159/159 [==============================] - 1s 9ms/step - loss: 2.3381 - accuracy: 0.1900 - precision: 0.6875 - val_loss: 2.4855 - val_accuracy: 0.1370 - val_precision: 0.1429\n",
      "Epoch 190/200\n",
      "154/159 [============================>.] - ETA: 0s - loss: 2.3301 - accuracy: 0.1914 - precision: 0.6711\n",
      "Epoch 00190: saving model to ./output/callback/190-weight-validation-loss-2.4876.hdf5\n",
      "159/159 [==============================] - 2s 10ms/step - loss: 2.3309 - accuracy: 0.1902 - precision: 0.6538 - val_loss: 2.4876 - val_accuracy: 0.1386 - val_precision: 0.1667\n",
      "Epoch 191/200\n",
      "159/159 [==============================] - 1s 9ms/step - loss: 2.3318 - accuracy: 0.1942 - precision: 0.6623 - val_loss: 2.4850 - val_accuracy: 0.1236 - val_precision: 0.1667\n",
      "Epoch 192/200\n",
      "159/159 [==============================] - 1s 9ms/step - loss: 2.3305 - accuracy: 0.1940 - precision: 0.6905 - val_loss: 2.4788 - val_accuracy: 0.1291 - val_precision: 0.1250\n",
      "Epoch 193/200\n",
      "159/159 [==============================] - 1s 9ms/step - loss: 2.3249 - accuracy: 0.1932 - precision: 0.6180 - val_loss: 2.4858 - val_accuracy: 0.1315 - val_precision: 0.1429\n",
      "Epoch 194/200\n",
      "159/159 [==============================] - 2s 10ms/step - loss: 2.3197 - accuracy: 0.1973 - precision: 0.6322 - val_loss: 2.4817 - val_accuracy: 0.1370 - val_precision: 0.1111\n",
      "Epoch 195/200\n",
      "156/159 [============================>.] - ETA: 0s - loss: 2.3284 - accuracy: 0.1921 - precision: 0.6800\n",
      "Epoch 00195: saving model to ./output/callback/195-weight-validation-loss-2.4823.hdf5\n",
      "159/159 [==============================] - 1s 9ms/step - loss: 2.3285 - accuracy: 0.1922 - precision: 0.6800 - val_loss: 2.4823 - val_accuracy: 0.1370 - val_precision: 0.1111\n",
      "Epoch 196/200\n",
      "159/159 [==============================] - 2s 10ms/step - loss: 2.3309 - accuracy: 0.1920 - precision: 0.6629 - val_loss: 2.4900 - val_accuracy: 0.1457 - val_precision: 0.1111\n",
      "Epoch 197/200\n",
      "159/159 [==============================] - 1s 9ms/step - loss: 2.3160 - accuracy: 0.2003 - precision: 0.7284 - val_loss: 2.4840 - val_accuracy: 0.1394 - val_precision: 0.1000\n",
      "Epoch 198/200\n",
      "159/159 [==============================] - 1s 9ms/step - loss: 2.3282 - accuracy: 0.1965 - precision: 0.6854 - val_loss: 2.4816 - val_accuracy: 0.1276 - val_precision: 0.1250\n",
      "Epoch 199/200\n",
      "159/159 [==============================] - 1s 9ms/step - loss: 2.3260 - accuracy: 0.1995 - precision: 0.6404 - val_loss: 2.4865 - val_accuracy: 0.1449 - val_precision: 0.1429\n",
      "Epoch 200/200\n",
      "153/159 [===========================>..] - ETA: 0s - loss: 2.3152 - accuracy: 0.2094 - precision: 0.6818\n",
      "Epoch 00200: saving model to ./output/callback/200-weight-validation-loss-2.4786.hdf5\n",
      "159/159 [==============================] - 2s 10ms/step - loss: 2.3166 - accuracy: 0.2078 - precision: 0.6889 - val_loss: 2.4786 - val_accuracy: 0.1425 - val_precision: 0.1250\n",
      "Done.\n"
     ]
    }
   ],
   "source": [
    "history = model.fit(train_dataset, \n",
    "                    epochs=epoch, \n",
    "                    validation_data=validation_dataset,\n",
    "                    callbacks=[weight_callback])\n",
    "print(\"Done.\")"
   ]
  },
  {
   "cell_type": "code",
   "execution_count": 61,
   "metadata": {},
   "outputs": [
    {
     "name": "stdout",
     "output_type": "stream",
     "text": [
      "2.1.0\n"
     ]
    }
   ],
   "source": [
    "print(tf.version.VERSION)\n"
   ]
  },
  {
   "cell_type": "code",
   "execution_count": 71,
   "metadata": {},
   "outputs": [
    {
     "name": "stdout",
     "output_type": "stream",
     "text": [
      "INFO:tensorflow:Assets written to: ./export_model/batch_size-32_lr-0.0001_epoch_200_dropout_0.5/assets\n"
     ]
    }
   ],
   "source": [
    "## Save Model\n",
    "tf.keras.backend.set_learning_phase(0)\n",
    "export_path = './export_model/batch_size-{}_lr-{}_epoch_{}_dropout_{}'.format(batch_size,learn_rate,epoch,dropout)\n",
    "\n",
    "if os.path.exists(export_path):\n",
    "    shutil.rmtree(export_path)\n",
    "    \n",
    "\n",
    "model.save(export_path) \n"
   ]
  },
  {
   "cell_type": "code",
   "execution_count": 72,
   "metadata": {},
   "outputs": [],
   "source": [
    "%matplotlib inline\n",
    "import matplotlib.pyplot as plt"
   ]
  },
  {
   "cell_type": "code",
   "execution_count": 73,
   "metadata": {},
   "outputs": [
    {
     "data": {
      "image/png": "[encoded data removed]",
      "text/plain": [
       "<Figure size 432x288 with 1 Axes>"
      ]
     },
     "metadata": {
      "needs_background": "light"
     },
     "output_type": "display_data"
    },
    {
     "data": {
      "image/png": "[encoded data removed]",
      "text/plain": [
       "<Figure size 432x288 with 1 Axes>"
      ]
     },
     "metadata": {
      "needs_background": "light"
     },
     "output_type": "display_data"
    },
    {
     "data": {
      "image/png": "[encoded data removed]",
      "text/plain": [
       "<Figure size 432x288 with 1 Axes>"
      ]
     },
     "metadata": {
      "needs_background": "light"
     },
     "output_type": "display_data"
    }
   ],
   "source": [
    "precision = history.history['precision']\n",
    "val_precision = history.history['val_precision']\n",
    "loss = history.history['loss']\n",
    "val_loss = history.history['val_loss']\n",
    "epochs = range(1, len(precision) + 1)\n",
    "\n",
    "accuracy = history.history['accuracy']\n",
    "val_accuracy = history.history['val_accuracy']\n",
    "epochs = range(1, len(accuracy) + 1)\n",
    "plt.plot(epochs, accuracy, 'b', label='Training Accuracy')\n",
    "plt.plot(epochs, val_accuracy, 'r', label='Validation Accuracy')\n",
    "plt.title('Training and validation Accuracy')\n",
    "plt.legend()\n",
    "plt.figure()\n",
    "\n",
    "plt.plot(epochs, precision, 'b', label='Training precision')\n",
    "plt.plot(epochs, val_precision, 'r', label='Validation precision')\n",
    "plt.title('Training and validation precision')\n",
    "plt.legend()\n",
    "plt.figure()\n",
    "\n",
    "plt.plot(epochs, loss, 'b', label='Training loss')\n",
    "plt.plot(epochs, val_loss, 'r', label='Validation loss')\n",
    "plt.title('Training and validation loss')\n",
    "plt.legend()\n",
    "plt.show()"
   ]
  },
  {
   "cell_type": "code",
   "execution_count": null,
   "metadata": {},
   "outputs": [],
   "source": [
    "# build a pipeline following below order\n",
    "# tokenizer: split a tweet into individual words\n",
    "# ngrams: create n-gram representation of words. Here it's set to trigram\n",
    "# cv: turn n-gram representaion to a sparse representaion of the token counts. Below 5,460 is used as vocabulary size\n",
    "# idf: calculate inverse document frequency from the result of the previous step \n",
    "#      to diminishes the weight of terms that occur very frequently in the document set \n",
    "#      and increases the weight of terms that occur rarely.\n",
    "# assembler: transform the resultof previous step to a single feature vector\n",
    "# label_stringIdx: encode target labels to a column of label indices. \n",
    "#                  The indices are ordered by label frequencies, so the most frequent label gets index 0.\n",
    "# lr: fit logistic regression with 'features' and 'label'\n",
    "def build_pipeline():\n",
    "    tokenizer = [Tokenizer(inputCol='tweet',outputCol='words')]\n",
    "    ngrams = [NGram(n=i, inputCol='words', outputCol='{0}_grams'.format(i)) for i in range(1,4)]\n",
    "    cv = [CountVectorizer(vocabSize=5460, inputCol='{0}_grams'.format(i), outputCol='{0}_tf'.format(i)) for i in range(1,4)]\n",
    "    idf = [IDF(inputCol='{0}_tf'.format(i), outputCol='{0}_tfidf'.format(i), minDocFreq=5) for i in range(1,4)]\n",
    "    assembler = [VectorAssembler(inputCols=['{0}_tfidf'.format(i) for i in range(1,4)], outputCol='features')]\n",
    "    label_stringIdx = [StringIndexer(inputCol='sentiment', outputCol='label')]\n",
    "    lr = [LogisticRegression(maxIter=100)]\n",
    "\tpipeline = Pipeline(stages=tokenizer+ngrams+cv+idf+assembler+label_stringIdx+lr)\n",
    "\treturn pipeline\n",
    "\n",
    "# below main function can be use for either first training or getting predictions with a loaded model\n",
    "# first retrieve data\n",
    "# apply pre-processing by making the above defined pre_processing function to a user defined function\n",
    "# either build the pipeline from the above build_pipeline function and train or use a loaded pipeline model\n",
    "# make predictions on the test set\n",
    "# output the pipeline model, Spark dataframe of the predictions, and the prediction accuracy on the test set\n",
    "def main(sqlc,input_dir,loaded_model=None):\n",
    "    print('retrieving data from {}'.format(input_dir))\n",
    "    if not loaded_model:\n",
    "        train_set = sqlContext.read\n",
    "                              .format('com.databricks.spark.csv')\n",
    "                              .options(header='true', inferschema='true')\n",
    "                              .load(input_dir+'training_data.csv')\n",
    "                \n",
    "                \n",
    "\ttest_set = sqlContext.read.format('com.databricks.spark.csv').options(header='true', inferschema='true').load(input_dir+'test_data.csv')\n",
    "\tprint('preprocessing data...')\n",
    "\treg_replaceUdf = f.udf(pre_processing, t.StringType())\n",
    "\tif not loaded_model:\n",
    "\t\ttrain_set = train_set.withColumn('tweet', reg_replaceUdf(f.col('text')))\n",
    "\ttest_set = test_set.withColumn('tweet', reg_replaceUdf(f.col('text')))\n",
    "\tif not loaded_model:\n",
    "\t\tpipeline = build_pipeline()\n",
    "\t\tprint('training...')\n",
    "\t\tmodel = pipeline.fit(train_set)\n",
    "\telse:\n",
    "\t\tmodel = loaded_model\n",
    "\tprint('making predictions on test data...')\n",
    "\tpredictions = model.transform(test_set)\n",
    "\taccuracy = predictions.filter(predictions.label == predictions.prediction).count() / float(test_set.count())\n",
    "\treturn model, predictions, accuracy\n",
    "\n",
    "\n",
    "if __name__==\"__main__\":\n",
    "\t# create a SparkContext while checking if there is already SparkContext created\n",
    "\ttry:\n",
    "\t    sc = ps.SparkContext()\n",
    "\t    sc.setLogLevel(\"ERROR\")\n",
    "\t    sqlContext = ps.sql.SQLContext(sc)\n",
    "\t    print('Created a SparkContext')\n",
    "\texcept ValueError:\n",
    "\t    warnings.warn('SparkContext already exists in this scope')\n",
    "\t# build pipeline, fit the model and retrieve the outputs by running main() function\n",
    "\tpipelineFit, predictions, accuracy = main(sqlContext,inputdir)\n",
    "\tprint('predictions finished!')\n",
    "\tprint('accuracy on test data is {}'.format(accuracy))\n",
    "\t# select the original target label 'sentiment', 'text' and 'label' created by label_stringIdx in the pipeline\n",
    "\t# model predictions. Save it as a single CSV file to a destination specified by the second command line argument\n",
    "\tprint('saving predictions to {}'.format(outputfile))\n",
    "\tpredictions.select(predictions['sentiment'],predictions['text'],predictions['label'],predictions['prediction']).coalesce(1).write.mode(\"overwrite\").format(\"com.databricks.spark.csv\").option(\"header\", \"true\").csv(outputfile)\n",
    "\t# save the trained model to destination specified by the third command line argument\n",
    "\tprint('saving model to {}'.format(modeldir))\n",
    "\tpipelineFit.save(modeldir)\n",
    "\t# Load the saved model and make another predictions on the same test set\n",
    "\t# to check if the model was properly saved\n",
    "\tloadedModel = PipelineModel.load(modeldir)\n",
    "\t_, _, loaded_accuracy = main(sqlContext,inputdir,loadedModel)\n",
    "\tprint('accuracy with saved model on test data is {}'.format(loaded_accuracy))\n",
    "\tsc.stop()"
   ]
  }
 ],
 "metadata": {
  "kernelspec": {
   "display_name": "Python 3",
   "language": "python",
   "name": "python3"
  },
  "language_info": {
   "codemirror_mode": {
    "name": "ipython",
    "version": 3
   },
   "file_extension": ".py",
   "mimetype": "text/x-python",
   "name": "python",
   "nbconvert_exporter": "python",
   "pygments_lexer": "ipython3",
   "version": "3.7.7"
  }
 },
 "nbformat": 4,
 "nbformat_minor": 4
}
