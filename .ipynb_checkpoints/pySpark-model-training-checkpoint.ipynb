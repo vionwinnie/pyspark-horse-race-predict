{
 "cells": [
  {
   "cell_type": "code",
   "execution_count": 1,
   "metadata": {},
   "outputs": [],
   "source": [
    "## Loading Packages and Dependencies\n",
    "import sys\n",
    "import pyspark as ps\n",
    "import warnings\n",
    "import re\n",
    "import pandas as pd\n",
    "import numpy as np\n",
    "\n",
    "from pyspark.sql import functions as f\n",
    "from pyspark.sql import types as t\n",
    "from pyspark.sql.types import StringType\n",
    "from pyspark.ml.feature import Tokenizer, NGram, CountVectorizer, IDF, StringIndexer, VectorAssembler,StandardScaler\n",
    "from pyspark.ml import Pipeline\n",
    "from pyspark.ml.classification import LogisticRegression\n",
    "from pyspark.ml import PipelineModel"
   ]
  },
  {
   "cell_type": "code",
   "execution_count": 2,
   "metadata": {},
   "outputs": [
    {
     "name": "stdout",
     "output_type": "stream",
     "text": [
      "Created a SparkContext\n"
     ]
    }
   ],
   "source": [
    "## Start spark session\n",
    "sc = ps.SparkContext()\n",
    "sc.setLogLevel(\"ERROR\")\n",
    "sqlContext = ps.sql.SQLContext(sc)\n",
    "print('Created a SparkContext')\n"
   ]
  },
  {
   "cell_type": "code",
   "execution_count": 3,
   "metadata": {},
   "outputs": [],
   "source": [
    "## Load raw data\n",
    "race_df = sqlContext.read.format('com.databricks.spark.csv')\\\n",
    "                    .options(header='true', inferschema='true')\\\n",
    "                    .load('races.csv')\n",
    "\n",
    "runs_df = sqlContext.read.format('com.databricks.spark.csv')\\\n",
    "                    .options(header='true', inferschema='true')\\\n",
    "                    .load('runs.csv')\n"
   ]
  },
  {
   "cell_type": "code",
   "execution_count": 4,
   "metadata": {},
   "outputs": [
    {
     "name": "stdout",
     "output_type": "stream",
     "text": [
      "6349\n",
      "79447\n"
     ]
    }
   ],
   "source": [
    "print(race_df.count())\n",
    "print(runs_df.count())"
   ]
  },
  {
   "cell_type": "markdown",
   "metadata": {},
   "source": [
    "## Clean Race Data"
   ]
  },
  {
   "cell_type": "code",
   "execution_count": 5,
   "metadata": {
    "scrolled": true
   },
   "outputs": [
    {
     "data": {
      "text/plain": [
       "6349"
      ]
     },
     "execution_count": 5,
     "metadata": {},
     "output_type": "execute_result"
    }
   ],
   "source": [
    "# check to see if we have NaN, then drop NaN\n",
    "race_df = race_df.select('race_id','venue', 'config', 'surface', 'distance', 'going', 'race_class')\n",
    "race_df.na.drop(how=\"all\").count()\n"
   ]
  },
  {
   "cell_type": "code",
   "execution_count": 12,
   "metadata": {},
   "outputs": [
    {
     "name": "stdout",
     "output_type": "stream",
     "text": [
      "+------+\n",
      "|config|\n",
      "+------+\n",
      "|     B|\n",
      "|   B+2|\n",
      "|     C|\n",
      "|   C+3|\n",
      "|     A|\n",
      "|   A+3|\n",
      "+------+\n",
      "\n"
     ]
    }
   ],
   "source": [
    "race_df.select(\"config\").distinct().show()"
   ]
  },
  {
   "cell_type": "code",
   "execution_count": 13,
   "metadata": {},
   "outputs": [
    {
     "name": "stdout",
     "output_type": "stream",
     "text": [
      "+----------------+\n",
      "|           going|\n",
      "+----------------+\n",
      "|            SLOW|\n",
      "|            SOFT|\n",
      "|            GOOD|\n",
      "|YIELDING TO SOFT|\n",
      "|        WET SLOW|\n",
      "|GOOD TO YIELDING|\n",
      "|        YIELDING|\n",
      "|        WET FAST|\n",
      "|            FAST|\n",
      "|    GOOD TO FIRM|\n",
      "+----------------+\n",
      "\n"
     ]
    }
   ],
   "source": [
    "race_df.select(\"going\").distinct().show()"
   ]
  },
  {
   "cell_type": "code",
   "execution_count": 14,
   "metadata": {},
   "outputs": [
    {
     "name": "stdout",
     "output_type": "stream",
     "text": [
      "+-----+\n",
      "|venue|\n",
      "+-----+\n",
      "|   HV|\n",
      "|   ST|\n",
      "+-----+\n",
      "\n"
     ]
    }
   ],
   "source": [
    "race_df.select(\"venue\").distinct().show()"
   ]
  },
  {
   "cell_type": "code",
   "execution_count": 6,
   "metadata": {},
   "outputs": [],
   "source": [
    "# encode ordinal columns: config, going, \n",
    "def build_pipeline_race():\n",
    "    config_stringIdx = [StringIndexer(inputCol='config', outputCol='config_tsf')]\n",
    "    going_stringIdx = [StringIndexer(inputCol='going', outputCol='going_tsf')]\n",
    "    venue_stringIdx = [StringIndexer(inputCol='venue', outputCol='venue_tsf')]\n",
    "    pipeline = Pipeline(stages=config_stringIdx+going_stringIdx+venue_stringIdx)\n",
    "    return pipeline"
   ]
  },
  {
   "cell_type": "code",
   "execution_count": 7,
   "metadata": {},
   "outputs": [
    {
     "name": "stdout",
     "output_type": "stream",
     "text": [
      "transforming race dataframe...\n",
      "completed\n",
      "root\n",
      " |-- race_id: integer (nullable = true)\n",
      " |-- surface: integer (nullable = true)\n",
      " |-- distance: integer (nullable = true)\n",
      " |-- race_class: integer (nullable = true)\n",
      " |-- config_tsf: double (nullable = false)\n",
      " |-- going_tsf: double (nullable = false)\n",
      " |-- venue_tsf: double (nullable = false)\n",
      "\n"
     ]
    }
   ],
   "source": [
    "## Instantiate the pipelne and fit with race data\n",
    "pipeline = build_pipeline_race()\n",
    "string_convert_model = pipeline.fit(race_df)\n",
    "print('transforming race dataframe...')\n",
    "processed_race_df = string_convert_model.transform(race_df).drop('config','going','venue')\n",
    "print('completed')\n",
    "processed_race_df.printSchema()"
   ]
  },
  {
   "cell_type": "code",
   "execution_count": 238,
   "metadata": {},
   "outputs": [],
   "source": [
    "## Saving runs data conversion pipeline\n",
    "race_modeldir = 'race_convert_model.pb'\n",
    "string_convert_model.save(race_modeldir)"
   ]
  },
  {
   "cell_type": "markdown",
   "metadata": {},
   "source": [
    "## Clean Run Data"
   ]
  },
  {
   "cell_type": "code",
   "execution_count": 8,
   "metadata": {},
   "outputs": [
    {
     "data": {
      "text/plain": [
       "79445"
      ]
     },
     "execution_count": 8,
     "metadata": {},
     "output_type": "execute_result"
    }
   ],
   "source": [
    "runs_df = runs_df.select('race_id', 'draw', \n",
    "                   'horse_age', 'horse_country', 'horse_type', 'horse_rating', 'declared_weight', 'actual_weight', 'win_odds', \n",
    "                   'result')\n",
    "\n",
    "# check to see if we have NaN, then drop NaN\n",
    "runs_df = runs_df.na.drop(how=\"any\")\n",
    "runs_df.count()"
   ]
  },
  {
   "cell_type": "code",
   "execution_count": 9,
   "metadata": {},
   "outputs": [
    {
     "data": {
      "text/plain": [
       "79444"
      ]
     },
     "execution_count": 9,
     "metadata": {},
     "output_type": "execute_result"
    }
   ],
   "source": [
    "# not sure why, but we got some strange draw in the dataset. Maximum shall be 14\n",
    "runs_df = runs_df.filter(\"draw<=14\")\n",
    "runs_df.count()"
   ]
  },
  {
   "cell_type": "code",
   "execution_count": 15,
   "metadata": {},
   "outputs": [
    {
     "name": "stdout",
     "output_type": "stream",
     "text": [
      "+-------------+\n",
      "|horse_country|\n",
      "+-------------+\n",
      "|          SPA|\n",
      "|          BRZ|\n",
      "|          ZIM|\n",
      "|          AUS|\n",
      "|           GB|\n",
      "|           FR|\n",
      "|          IRE|\n",
      "|          USA|\n",
      "|           GR|\n",
      "|          GER|\n",
      "|          SAF|\n",
      "|          CAN|\n",
      "|          ARG|\n",
      "|           NZ|\n",
      "|          ITY|\n",
      "|          JPN|\n",
      "+-------------+\n",
      "\n"
     ]
    }
   ],
   "source": [
    "runs_df.select(\"horse_country\").distinct().show()"
   ]
  },
  {
   "cell_type": "code",
   "execution_count": 16,
   "metadata": {},
   "outputs": [
    {
     "name": "stdout",
     "output_type": "stream",
     "text": [
      "+----------+\n",
      "|horse_type|\n",
      "+----------+\n",
      "|     Horse|\n",
      "|       Rig|\n",
      "|     Filly|\n",
      "|   Gelding|\n",
      "|      Mare|\n",
      "|      Roan|\n",
      "|     Brown|\n",
      "|      Grey|\n",
      "|      Colt|\n",
      "+----------+\n",
      "\n"
     ]
    }
   ],
   "source": [
    "runs_df.select(\"horse_type\").distinct().show()"
   ]
  },
  {
   "cell_type": "code",
   "execution_count": 17,
   "metadata": {},
   "outputs": [],
   "source": [
    "# encode ordinal columns: horse_country_tsf, horse_type_tsf \n",
    "def build_pipeline_runs():\n",
    "\n",
    "    horse_country_stringIdx = [StringIndexer(inputCol='horse_country', outputCol='horse_country_tsf')]\n",
    "    horse_type_stringIdx = [StringIndexer(inputCol='horse_type', outputCol='horse_type_tsf')]\n",
    "    pipeline = Pipeline(stages=horse_country_stringIdx+horse_type_stringIdx)\n",
    "    return pipeline"
   ]
  },
  {
   "cell_type": "code",
   "execution_count": 18,
   "metadata": {},
   "outputs": [
    {
     "name": "stdout",
     "output_type": "stream",
     "text": [
      "transforming run dataframe...\n",
      "completed\n",
      "root\n",
      " |-- race_id: integer (nullable = true)\n",
      " |-- draw: integer (nullable = true)\n",
      " |-- horse_age: integer (nullable = true)\n",
      " |-- horse_rating: integer (nullable = true)\n",
      " |-- declared_weight: double (nullable = true)\n",
      " |-- actual_weight: integer (nullable = true)\n",
      " |-- win_odds: double (nullable = true)\n",
      " |-- result: integer (nullable = true)\n",
      " |-- horse_country_tsf: double (nullable = false)\n",
      " |-- horse_type_tsf: double (nullable = false)\n",
      "\n"
     ]
    }
   ],
   "source": [
    "pipeline_runs = build_pipeline_runs()\n",
    "runs_convert_model = pipeline_runs.fit(runs_df)\n",
    "print('transforming run dataframe...')\n",
    "runs_processed_df = runs_convert_model.transform(runs_df).drop('horse_country','horse_type')\n",
    "print('completed')\n",
    "runs_processed_df.printSchema()"
   ]
  },
  {
   "cell_type": "code",
   "execution_count": 235,
   "metadata": {},
   "outputs": [],
   "source": [
    "## Saving runs data conversion pipeline\n",
    "runs_modeldir = 'runs_convert_model.pb'\n",
    "runs_convert_model.save(runs_modeldir)"
   ]
  },
  {
   "cell_type": "code",
   "execution_count": 19,
   "metadata": {},
   "outputs": [
    {
     "name": "stdout",
     "output_type": "stream",
     "text": [
      "+-------+----+---------+------------+---------------+-------------+--------+------+-----------------+--------------+\n",
      "|race_id|draw|horse_age|horse_rating|declared_weight|actual_weight|win_odds|result|horse_country_tsf|horse_type_tsf|\n",
      "+-------+----+---------+------------+---------------+-------------+--------+------+-----------------+--------------+\n",
      "|      0|   7|        3|          60|         1020.0|          133|     9.7|    10|              0.0|           0.0|\n",
      "|      0|  12|        3|          60|          980.0|          133|    16.0|     8|              1.0|           0.0|\n",
      "+-------+----+---------+------------+---------------+-------------+--------+------+-----------------+--------------+\n",
      "only showing top 2 rows\n",
      "\n"
     ]
    }
   ],
   "source": [
    "runs_processed_df.show(2)"
   ]
  },
  {
   "cell_type": "code",
   "execution_count": 149,
   "metadata": {},
   "outputs": [],
   "source": [
    "def rename_columns(df, columns):\n",
    "    if isinstance(columns, dict):\n",
    "        for old_name, new_name in columns.items():\n",
    "            df = df.withColumnRenamed(old_name, new_name)\n",
    "        return df\n",
    "    else:\n",
    "        raise ValueError(\"'columns' should be a dict, like {'old_name_1':'new_name_1', 'old_name_2':'new_name_2'}\")"
   ]
  },
  {
   "cell_type": "code",
   "execution_count": 22,
   "metadata": {},
   "outputs": [],
   "source": [
    "from deploy.utils import rename_col_dictionary, rename_columns"
   ]
  },
  {
   "cell_type": "code",
   "execution_count": 23,
   "metadata": {},
   "outputs": [
    {
     "name": "stdout",
     "output_type": "stream",
     "text": [
      "1\n",
      "2\n",
      "3\n",
      "4\n",
      "5\n",
      "6\n",
      "7\n",
      "8\n",
      "9\n",
      "10\n",
      "11\n",
      "12\n",
      "13\n",
      "14\n"
     ]
    }
   ],
   "source": [
    "# dummy dataframe with all race_id\n",
    "unique_val = runs_processed_df.select(\"race_id\").distinct().collect()\n",
    "all_race_id_list = [val['race_id'] for val in unique_val ]\n",
    "# Generate a pandas DataFrame\n",
    "pdf = pd.DataFrame({'race_id':all_race_id_list})\n",
    "# Create a Spark DataFrame from a pandas DataFrame using Arrow\n",
    "final = sqlContext.createDataFrame(pdf)\n",
    "\n",
    "for i in range(1,15):\n",
    "    print(i)\n",
    "    tmp = runs_processed_df.filter(\"draw={}\".format(i))\n",
    "    mapping_cols = rename_col_dictionary(i)    \n",
    "    tmp = rename_columns(tmp,mapping_cols)\n",
    "    \n",
    "    if tmp ==1:\n",
    "        final = tmp\n",
    "    else:\n",
    "        final = final.join(tmp,[\"race_id\"],how='left')\n",
    "    "
   ]
  },
  {
   "cell_type": "code",
   "execution_count": 24,
   "metadata": {},
   "outputs": [
    {
     "name": "stdout",
     "output_type": "stream",
     "text": [
      "127\n",
      "root\n",
      " |-- race_id: long (nullable = true)\n",
      " |-- draw_1: integer (nullable = true)\n",
      " |-- horse_age_1: integer (nullable = true)\n",
      " |-- horse_rating_1: integer (nullable = true)\n",
      " |-- declared_weight_1: double (nullable = true)\n",
      " |-- actual_weight_1: integer (nullable = true)\n",
      " |-- win_odds_1: double (nullable = true)\n",
      " |-- result_1: integer (nullable = true)\n",
      " |-- horse_country_tsf_1: double (nullable = true)\n",
      " |-- horse_type_tsf_1: double (nullable = true)\n",
      " |-- draw_2: integer (nullable = true)\n",
      " |-- horse_age_2: integer (nullable = true)\n",
      " |-- horse_rating_2: integer (nullable = true)\n",
      " |-- declared_weight_2: double (nullable = true)\n",
      " |-- actual_weight_2: integer (nullable = true)\n",
      " |-- win_odds_2: double (nullable = true)\n",
      " |-- result_2: integer (nullable = true)\n",
      " |-- horse_country_tsf_2: double (nullable = true)\n",
      " |-- horse_type_tsf_2: double (nullable = true)\n",
      " |-- draw_3: integer (nullable = true)\n",
      " |-- horse_age_3: integer (nullable = true)\n",
      " |-- horse_rating_3: integer (nullable = true)\n",
      " |-- declared_weight_3: double (nullable = true)\n",
      " |-- actual_weight_3: integer (nullable = true)\n",
      " |-- win_odds_3: double (nullable = true)\n",
      " |-- result_3: integer (nullable = true)\n",
      " |-- horse_country_tsf_3: double (nullable = true)\n",
      " |-- horse_type_tsf_3: double (nullable = true)\n",
      " |-- draw_4: integer (nullable = true)\n",
      " |-- horse_age_4: integer (nullable = true)\n",
      " |-- horse_rating_4: integer (nullable = true)\n",
      " |-- declared_weight_4: double (nullable = true)\n",
      " |-- actual_weight_4: integer (nullable = true)\n",
      " |-- win_odds_4: double (nullable = true)\n",
      " |-- result_4: integer (nullable = true)\n",
      " |-- horse_country_tsf_4: double (nullable = true)\n",
      " |-- horse_type_tsf_4: double (nullable = true)\n",
      " |-- draw_5: integer (nullable = true)\n",
      " |-- horse_age_5: integer (nullable = true)\n",
      " |-- horse_rating_5: integer (nullable = true)\n",
      " |-- declared_weight_5: double (nullable = true)\n",
      " |-- actual_weight_5: integer (nullable = true)\n",
      " |-- win_odds_5: double (nullable = true)\n",
      " |-- result_5: integer (nullable = true)\n",
      " |-- horse_country_tsf_5: double (nullable = true)\n",
      " |-- horse_type_tsf_5: double (nullable = true)\n",
      " |-- draw_6: integer (nullable = true)\n",
      " |-- horse_age_6: integer (nullable = true)\n",
      " |-- horse_rating_6: integer (nullable = true)\n",
      " |-- declared_weight_6: double (nullable = true)\n",
      " |-- actual_weight_6: integer (nullable = true)\n",
      " |-- win_odds_6: double (nullable = true)\n",
      " |-- result_6: integer (nullable = true)\n",
      " |-- horse_country_tsf_6: double (nullable = true)\n",
      " |-- horse_type_tsf_6: double (nullable = true)\n",
      " |-- draw_7: integer (nullable = true)\n",
      " |-- horse_age_7: integer (nullable = true)\n",
      " |-- horse_rating_7: integer (nullable = true)\n",
      " |-- declared_weight_7: double (nullable = true)\n",
      " |-- actual_weight_7: integer (nullable = true)\n",
      " |-- win_odds_7: double (nullable = true)\n",
      " |-- result_7: integer (nullable = true)\n",
      " |-- horse_country_tsf_7: double (nullable = true)\n",
      " |-- horse_type_tsf_7: double (nullable = true)\n",
      " |-- draw_8: integer (nullable = true)\n",
      " |-- horse_age_8: integer (nullable = true)\n",
      " |-- horse_rating_8: integer (nullable = true)\n",
      " |-- declared_weight_8: double (nullable = true)\n",
      " |-- actual_weight_8: integer (nullable = true)\n",
      " |-- win_odds_8: double (nullable = true)\n",
      " |-- result_8: integer (nullable = true)\n",
      " |-- horse_country_tsf_8: double (nullable = true)\n",
      " |-- horse_type_tsf_8: double (nullable = true)\n",
      " |-- draw_9: integer (nullable = true)\n",
      " |-- horse_age_9: integer (nullable = true)\n",
      " |-- horse_rating_9: integer (nullable = true)\n",
      " |-- declared_weight_9: double (nullable = true)\n",
      " |-- actual_weight_9: integer (nullable = true)\n",
      " |-- win_odds_9: double (nullable = true)\n",
      " |-- result_9: integer (nullable = true)\n",
      " |-- horse_country_tsf_9: double (nullable = true)\n",
      " |-- horse_type_tsf_9: double (nullable = true)\n",
      " |-- draw_10: integer (nullable = true)\n",
      " |-- horse_age_10: integer (nullable = true)\n",
      " |-- horse_rating_10: integer (nullable = true)\n",
      " |-- declared_weight_10: double (nullable = true)\n",
      " |-- actual_weight_10: integer (nullable = true)\n",
      " |-- win_odds_10: double (nullable = true)\n",
      " |-- result_10: integer (nullable = true)\n",
      " |-- horse_country_tsf_10: double (nullable = true)\n",
      " |-- horse_type_tsf_10: double (nullable = true)\n",
      " |-- draw_11: integer (nullable = true)\n",
      " |-- horse_age_11: integer (nullable = true)\n",
      " |-- horse_rating_11: integer (nullable = true)\n",
      " |-- declared_weight_11: double (nullable = true)\n",
      " |-- actual_weight_11: integer (nullable = true)\n",
      " |-- win_odds_11: double (nullable = true)\n",
      " |-- result_11: integer (nullable = true)\n",
      " |-- horse_country_tsf_11: double (nullable = true)\n",
      " |-- horse_type_tsf_11: double (nullable = true)\n",
      " |-- draw_12: integer (nullable = true)\n",
      " |-- horse_age_12: integer (nullable = true)\n",
      " |-- horse_rating_12: integer (nullable = true)\n",
      " |-- declared_weight_12: double (nullable = true)\n",
      " |-- actual_weight_12: integer (nullable = true)\n",
      " |-- win_odds_12: double (nullable = true)\n",
      " |-- result_12: integer (nullable = true)\n",
      " |-- horse_country_tsf_12: double (nullable = true)\n",
      " |-- horse_type_tsf_12: double (nullable = true)\n",
      " |-- draw_13: integer (nullable = true)\n",
      " |-- horse_age_13: integer (nullable = true)\n",
      " |-- horse_rating_13: integer (nullable = true)\n",
      " |-- declared_weight_13: double (nullable = true)\n",
      " |-- actual_weight_13: integer (nullable = true)\n",
      " |-- win_odds_13: double (nullable = true)\n",
      " |-- result_13: integer (nullable = true)\n",
      " |-- horse_country_tsf_13: double (nullable = true)\n",
      " |-- horse_type_tsf_13: double (nullable = true)\n",
      " |-- draw_14: integer (nullable = true)\n",
      " |-- horse_age_14: integer (nullable = true)\n",
      " |-- horse_rating_14: integer (nullable = true)\n",
      " |-- declared_weight_14: double (nullable = true)\n",
      " |-- actual_weight_14: integer (nullable = true)\n",
      " |-- win_odds_14: double (nullable = true)\n",
      " |-- result_14: integer (nullable = true)\n",
      " |-- horse_country_tsf_14: double (nullable = true)\n",
      " |-- horse_type_tsf_14: double (nullable = true)\n",
      "\n"
     ]
    }
   ],
   "source": [
    "print(len(final.columns))\n",
    "final.printSchema()"
   ]
  },
  {
   "cell_type": "code",
   "execution_count": 25,
   "metadata": {},
   "outputs": [],
   "source": [
    "## Fill NA with zero\n",
    "runs_df = final.fillna(0)\n"
   ]
  },
  {
   "cell_type": "code",
   "execution_count": 26,
   "metadata": {},
   "outputs": [
    {
     "name": "stdout",
     "output_type": "stream",
     "text": [
      "root\n",
      " |-- surface: integer (nullable = true)\n",
      " |-- distance: integer (nullable = true)\n",
      " |-- race_class: integer (nullable = true)\n",
      " |-- config_tsf: double (nullable = true)\n",
      " |-- going_tsf: double (nullable = true)\n",
      " |-- venue_tsf: double (nullable = true)\n",
      " |-- horse_age_1: integer (nullable = true)\n",
      " |-- horse_rating_1: integer (nullable = true)\n",
      " |-- declared_weight_1: double (nullable = false)\n",
      " |-- actual_weight_1: integer (nullable = true)\n",
      " |-- win_odds_1: double (nullable = false)\n",
      " |-- horse_country_tsf_1: double (nullable = false)\n",
      " |-- horse_type_tsf_1: double (nullable = false)\n",
      " |-- horse_age_2: integer (nullable = true)\n",
      " |-- horse_rating_2: integer (nullable = true)\n",
      " |-- declared_weight_2: double (nullable = false)\n",
      " |-- actual_weight_2: integer (nullable = true)\n",
      " |-- win_odds_2: double (nullable = false)\n",
      " |-- horse_country_tsf_2: double (nullable = false)\n",
      " |-- horse_type_tsf_2: double (nullable = false)\n",
      " |-- horse_age_3: integer (nullable = true)\n",
      " |-- horse_rating_3: integer (nullable = true)\n",
      " |-- declared_weight_3: double (nullable = false)\n",
      " |-- actual_weight_3: integer (nullable = true)\n",
      " |-- win_odds_3: double (nullable = false)\n",
      " |-- horse_country_tsf_3: double (nullable = false)\n",
      " |-- horse_type_tsf_3: double (nullable = false)\n",
      " |-- horse_age_4: integer (nullable = true)\n",
      " |-- horse_rating_4: integer (nullable = true)\n",
      " |-- declared_weight_4: double (nullable = false)\n",
      " |-- actual_weight_4: integer (nullable = true)\n",
      " |-- win_odds_4: double (nullable = false)\n",
      " |-- horse_country_tsf_4: double (nullable = false)\n",
      " |-- horse_type_tsf_4: double (nullable = false)\n",
      " |-- horse_age_5: integer (nullable = true)\n",
      " |-- horse_rating_5: integer (nullable = true)\n",
      " |-- declared_weight_5: double (nullable = false)\n",
      " |-- actual_weight_5: integer (nullable = true)\n",
      " |-- win_odds_5: double (nullable = false)\n",
      " |-- horse_country_tsf_5: double (nullable = false)\n",
      " |-- horse_type_tsf_5: double (nullable = false)\n",
      " |-- horse_age_6: integer (nullable = true)\n",
      " |-- horse_rating_6: integer (nullable = true)\n",
      " |-- declared_weight_6: double (nullable = false)\n",
      " |-- actual_weight_6: integer (nullable = true)\n",
      " |-- win_odds_6: double (nullable = false)\n",
      " |-- horse_country_tsf_6: double (nullable = false)\n",
      " |-- horse_type_tsf_6: double (nullable = false)\n",
      " |-- horse_age_7: integer (nullable = true)\n",
      " |-- horse_rating_7: integer (nullable = true)\n",
      " |-- declared_weight_7: double (nullable = false)\n",
      " |-- actual_weight_7: integer (nullable = true)\n",
      " |-- win_odds_7: double (nullable = false)\n",
      " |-- horse_country_tsf_7: double (nullable = false)\n",
      " |-- horse_type_tsf_7: double (nullable = false)\n",
      " |-- horse_age_8: integer (nullable = true)\n",
      " |-- horse_rating_8: integer (nullable = true)\n",
      " |-- declared_weight_8: double (nullable = false)\n",
      " |-- actual_weight_8: integer (nullable = true)\n",
      " |-- win_odds_8: double (nullable = false)\n",
      " |-- horse_country_tsf_8: double (nullable = false)\n",
      " |-- horse_type_tsf_8: double (nullable = false)\n",
      " |-- horse_age_9: integer (nullable = true)\n",
      " |-- horse_rating_9: integer (nullable = true)\n",
      " |-- declared_weight_9: double (nullable = false)\n",
      " |-- actual_weight_9: integer (nullable = true)\n",
      " |-- win_odds_9: double (nullable = false)\n",
      " |-- horse_country_tsf_9: double (nullable = false)\n",
      " |-- horse_type_tsf_9: double (nullable = false)\n",
      " |-- horse_age_10: integer (nullable = true)\n",
      " |-- horse_rating_10: integer (nullable = true)\n",
      " |-- declared_weight_10: double (nullable = false)\n",
      " |-- actual_weight_10: integer (nullable = true)\n",
      " |-- win_odds_10: double (nullable = false)\n",
      " |-- horse_country_tsf_10: double (nullable = false)\n",
      " |-- horse_type_tsf_10: double (nullable = false)\n",
      " |-- horse_age_11: integer (nullable = true)\n",
      " |-- horse_rating_11: integer (nullable = true)\n",
      " |-- declared_weight_11: double (nullable = false)\n",
      " |-- actual_weight_11: integer (nullable = true)\n",
      " |-- win_odds_11: double (nullable = false)\n",
      " |-- horse_country_tsf_11: double (nullable = false)\n",
      " |-- horse_type_tsf_11: double (nullable = false)\n",
      " |-- horse_age_12: integer (nullable = true)\n",
      " |-- horse_rating_12: integer (nullable = true)\n",
      " |-- declared_weight_12: double (nullable = false)\n",
      " |-- actual_weight_12: integer (nullable = true)\n",
      " |-- win_odds_12: double (nullable = false)\n",
      " |-- horse_country_tsf_12: double (nullable = false)\n",
      " |-- horse_type_tsf_12: double (nullable = false)\n",
      " |-- horse_age_13: integer (nullable = true)\n",
      " |-- horse_rating_13: integer (nullable = true)\n",
      " |-- declared_weight_13: double (nullable = false)\n",
      " |-- actual_weight_13: integer (nullable = true)\n",
      " |-- win_odds_13: double (nullable = false)\n",
      " |-- horse_country_tsf_13: double (nullable = false)\n",
      " |-- horse_type_tsf_13: double (nullable = false)\n",
      " |-- horse_age_14: integer (nullable = true)\n",
      " |-- horse_rating_14: integer (nullable = true)\n",
      " |-- declared_weight_14: double (nullable = false)\n",
      " |-- actual_weight_14: integer (nullable = true)\n",
      " |-- win_odds_14: double (nullable = false)\n",
      " |-- horse_country_tsf_14: double (nullable = false)\n",
      " |-- horse_type_tsf_14: double (nullable = false)\n",
      "\n"
     ]
    }
   ],
   "source": [
    "join_df = processed_race_df.join(runs_df, on='race_id', how='right')\n",
    "\n",
    "## Drop race_id\n",
    "selected = [s for s in join_df.columns if 'result' not in s]\n",
    "selected = [s for s in selected if 'draw' not in s]\n",
    "selected.remove(\"race_id\")\n",
    "\n",
    "X_all = join_df.select(selected)\n",
    "X_all.printSchema()\n",
    "\n",
    "## Name output column\n",
    "input_cols_name = X_all.columns\n",
    "output_cols = [col + '_scaled' for col in X_all.columns]\n",
    "\n"
   ]
  },
  {
   "cell_type": "code",
   "execution_count": 27,
   "metadata": {},
   "outputs": [
    {
     "data": {
      "text/plain": [
       "104"
      ]
     },
     "execution_count": 27,
     "metadata": {},
     "output_type": "execute_result"
    }
   ],
   "source": [
    "len(X_all.columns)"
   ]
  },
  {
   "cell_type": "code",
   "execution_count": 28,
   "metadata": {},
   "outputs": [],
   "source": [
    "## Standardize all the variables\n",
    "from pyspark.ml import Pipeline\n",
    "from pyspark.ml.feature import StandardScaler\n",
    "assemblers = [VectorAssembler(inputCols=[col], outputCol=col + \"_vec\") for col in input_cols_name]\n",
    "scalers = [StandardScaler(inputCol=col + \"_vec\", outputCol=col + \"_scaled\") for col in input_cols_name]\n",
    "pipeline = Pipeline(stages=assemblers + scalers)\n",
    "\n",
    "scalerModel = pipeline.fit(X_all)\n",
    "scaledData = scalerModel.transform(X_all)\n"
   ]
  },
  {
   "cell_type": "code",
   "execution_count": 240,
   "metadata": {},
   "outputs": [],
   "source": [
    "## Saving runs data conversion pipeline\n",
    "scaler_modeldir = 'scaler_model.pb'\n",
    "scalerModel.save(scaler_modeldir)"
   ]
  },
  {
   "cell_type": "code",
   "execution_count": 29,
   "metadata": {},
   "outputs": [
    {
     "name": "stdout",
     "output_type": "stream",
     "text": [
      "root\n",
      " |-- surface_scaled: vector (nullable = true)\n",
      " |-- distance_scaled: vector (nullable = true)\n",
      " |-- race_class_scaled: vector (nullable = true)\n",
      " |-- config_tsf_scaled: vector (nullable = true)\n",
      " |-- going_tsf_scaled: vector (nullable = true)\n",
      " |-- venue_tsf_scaled: vector (nullable = true)\n",
      " |-- horse_age_1_scaled: vector (nullable = true)\n",
      " |-- horse_rating_1_scaled: vector (nullable = true)\n",
      " |-- declared_weight_1_scaled: vector (nullable = true)\n",
      " |-- actual_weight_1_scaled: vector (nullable = true)\n",
      " |-- win_odds_1_scaled: vector (nullable = true)\n",
      " |-- horse_country_tsf_1_scaled: vector (nullable = true)\n",
      " |-- horse_type_tsf_1_scaled: vector (nullable = true)\n",
      " |-- horse_age_2_scaled: vector (nullable = true)\n",
      " |-- horse_rating_2_scaled: vector (nullable = true)\n",
      " |-- declared_weight_2_scaled: vector (nullable = true)\n",
      " |-- actual_weight_2_scaled: vector (nullable = true)\n",
      " |-- win_odds_2_scaled: vector (nullable = true)\n",
      " |-- horse_country_tsf_2_scaled: vector (nullable = true)\n",
      " |-- horse_type_tsf_2_scaled: vector (nullable = true)\n",
      " |-- horse_age_3_scaled: vector (nullable = true)\n",
      " |-- horse_rating_3_scaled: vector (nullable = true)\n",
      " |-- declared_weight_3_scaled: vector (nullable = true)\n",
      " |-- actual_weight_3_scaled: vector (nullable = true)\n",
      " |-- win_odds_3_scaled: vector (nullable = true)\n",
      " |-- horse_country_tsf_3_scaled: vector (nullable = true)\n",
      " |-- horse_type_tsf_3_scaled: vector (nullable = true)\n",
      " |-- horse_age_4_scaled: vector (nullable = true)\n",
      " |-- horse_rating_4_scaled: vector (nullable = true)\n",
      " |-- declared_weight_4_scaled: vector (nullable = true)\n",
      " |-- actual_weight_4_scaled: vector (nullable = true)\n",
      " |-- win_odds_4_scaled: vector (nullable = true)\n",
      " |-- horse_country_tsf_4_scaled: vector (nullable = true)\n",
      " |-- horse_type_tsf_4_scaled: vector (nullable = true)\n",
      " |-- horse_age_5_scaled: vector (nullable = true)\n",
      " |-- horse_rating_5_scaled: vector (nullable = true)\n",
      " |-- declared_weight_5_scaled: vector (nullable = true)\n",
      " |-- actual_weight_5_scaled: vector (nullable = true)\n",
      " |-- win_odds_5_scaled: vector (nullable = true)\n",
      " |-- horse_country_tsf_5_scaled: vector (nullable = true)\n",
      " |-- horse_type_tsf_5_scaled: vector (nullable = true)\n",
      " |-- horse_age_6_scaled: vector (nullable = true)\n",
      " |-- horse_rating_6_scaled: vector (nullable = true)\n",
      " |-- declared_weight_6_scaled: vector (nullable = true)\n",
      " |-- actual_weight_6_scaled: vector (nullable = true)\n",
      " |-- win_odds_6_scaled: vector (nullable = true)\n",
      " |-- horse_country_tsf_6_scaled: vector (nullable = true)\n",
      " |-- horse_type_tsf_6_scaled: vector (nullable = true)\n",
      " |-- horse_age_7_scaled: vector (nullable = true)\n",
      " |-- horse_rating_7_scaled: vector (nullable = true)\n",
      " |-- declared_weight_7_scaled: vector (nullable = true)\n",
      " |-- actual_weight_7_scaled: vector (nullable = true)\n",
      " |-- win_odds_7_scaled: vector (nullable = true)\n",
      " |-- horse_country_tsf_7_scaled: vector (nullable = true)\n",
      " |-- horse_type_tsf_7_scaled: vector (nullable = true)\n",
      " |-- horse_age_8_scaled: vector (nullable = true)\n",
      " |-- horse_rating_8_scaled: vector (nullable = true)\n",
      " |-- declared_weight_8_scaled: vector (nullable = true)\n",
      " |-- actual_weight_8_scaled: vector (nullable = true)\n",
      " |-- win_odds_8_scaled: vector (nullable = true)\n",
      " |-- horse_country_tsf_8_scaled: vector (nullable = true)\n",
      " |-- horse_type_tsf_8_scaled: vector (nullable = true)\n",
      " |-- horse_age_9_scaled: vector (nullable = true)\n",
      " |-- horse_rating_9_scaled: vector (nullable = true)\n",
      " |-- declared_weight_9_scaled: vector (nullable = true)\n",
      " |-- actual_weight_9_scaled: vector (nullable = true)\n",
      " |-- win_odds_9_scaled: vector (nullable = true)\n",
      " |-- horse_country_tsf_9_scaled: vector (nullable = true)\n",
      " |-- horse_type_tsf_9_scaled: vector (nullable = true)\n",
      " |-- horse_age_10_scaled: vector (nullable = true)\n",
      " |-- horse_rating_10_scaled: vector (nullable = true)\n",
      " |-- declared_weight_10_scaled: vector (nullable = true)\n",
      " |-- actual_weight_10_scaled: vector (nullable = true)\n",
      " |-- win_odds_10_scaled: vector (nullable = true)\n",
      " |-- horse_country_tsf_10_scaled: vector (nullable = true)\n",
      " |-- horse_type_tsf_10_scaled: vector (nullable = true)\n",
      " |-- horse_age_11_scaled: vector (nullable = true)\n",
      " |-- horse_rating_11_scaled: vector (nullable = true)\n",
      " |-- declared_weight_11_scaled: vector (nullable = true)\n",
      " |-- actual_weight_11_scaled: vector (nullable = true)\n",
      " |-- win_odds_11_scaled: vector (nullable = true)\n",
      " |-- horse_country_tsf_11_scaled: vector (nullable = true)\n",
      " |-- horse_type_tsf_11_scaled: vector (nullable = true)\n",
      " |-- horse_age_12_scaled: vector (nullable = true)\n",
      " |-- horse_rating_12_scaled: vector (nullable = true)\n",
      " |-- declared_weight_12_scaled: vector (nullable = true)\n",
      " |-- actual_weight_12_scaled: vector (nullable = true)\n",
      " |-- win_odds_12_scaled: vector (nullable = true)\n",
      " |-- horse_country_tsf_12_scaled: vector (nullable = true)\n",
      " |-- horse_type_tsf_12_scaled: vector (nullable = true)\n",
      " |-- horse_age_13_scaled: vector (nullable = true)\n",
      " |-- horse_rating_13_scaled: vector (nullable = true)\n",
      " |-- declared_weight_13_scaled: vector (nullable = true)\n",
      " |-- actual_weight_13_scaled: vector (nullable = true)\n",
      " |-- win_odds_13_scaled: vector (nullable = true)\n",
      " |-- horse_country_tsf_13_scaled: vector (nullable = true)\n",
      " |-- horse_type_tsf_13_scaled: vector (nullable = true)\n",
      " |-- horse_age_14_scaled: vector (nullable = true)\n",
      " |-- horse_rating_14_scaled: vector (nullable = true)\n",
      " |-- declared_weight_14_scaled: vector (nullable = true)\n",
      " |-- actual_weight_14_scaled: vector (nullable = true)\n",
      " |-- win_odds_14_scaled: vector (nullable = true)\n",
      " |-- horse_country_tsf_14_scaled: vector (nullable = true)\n",
      " |-- horse_type_tsf_14_scaled: vector (nullable = true)\n",
      "\n"
     ]
    }
   ],
   "source": [
    "selected = [s for s in scaledData.columns if 'scaled'  in s]\n",
    "scaledData_final = scaledData.select(selected)\n",
    "scaledData_final.printSchema()"
   ]
  },
  {
   "cell_type": "code",
   "execution_count": 30,
   "metadata": {},
   "outputs": [],
   "source": [
    "def reset_number(df):    \n",
    "    for i in range(1,15):\n",
    "        df = df.withColumn(\"result_{}_msk\".format(i), f.when((f.col(\"result_{}\".format(i)) == 1),1).otherwise(0)).drop(\"result_{}\".format(i))    \n",
    "    return df"
   ]
  },
  {
   "cell_type": "code",
   "execution_count": 31,
   "metadata": {},
   "outputs": [],
   "source": [
    "selected_y = [s for s in runs_df.columns if 'result' in s]\n",
    "y_all = runs_df.select(selected_y)\n",
    "y_all = reset_number(y_all)"
   ]
  },
  {
   "cell_type": "code",
   "execution_count": 32,
   "metadata": {},
   "outputs": [],
   "source": [
    "X_all_pdf = scaledData_final.select(\"*\").toPandas()\n",
    "y_all_pdf = y_all.select(\"*\").toPandas()"
   ]
  },
  {
   "cell_type": "code",
   "execution_count": 33,
   "metadata": {},
   "outputs": [],
   "source": [
    "X_all_pdf_devectorized = X_all_pdf.applymap(lambda x: x.item())"
   ]
  },
  {
   "cell_type": "code",
   "execution_count": 34,
   "metadata": {},
   "outputs": [],
   "source": [
    "from sklearn.model_selection import train_test_split\n",
    "X_train, X_test, y_train, y_test = train_test_split(X_all_pdf_devectorized, y_all_pdf, test_size=0.2, random_state=42)"
   ]
  },
  {
   "cell_type": "code",
   "execution_count": 35,
   "metadata": {},
   "outputs": [
    {
     "data": {
      "text/plain": [
       "(5078, 104)"
      ]
     },
     "execution_count": 35,
     "metadata": {},
     "output_type": "execute_result"
    }
   ],
   "source": [
    "X_train.shape"
   ]
  },
  {
   "cell_type": "markdown",
   "metadata": {},
   "source": [
    "## Model Training\n",
    "- https://www.tensorflow.org/tutorials/keras/save_and_load"
   ]
  },
  {
   "cell_type": "code",
   "execution_count": 65,
   "metadata": {},
   "outputs": [],
   "source": [
    "## Set up a tensorflow sequential model\n",
    "import tensorflow as tf \n",
    "\n",
    "def create_model(lr,dropout):\n",
    "    model = tf.keras.Sequential([\n",
    "        tf.keras.layers.Dense(96, activation='relu', input_shape=(104,)),\n",
    "        tf.keras.layers.Dropout(dropout),\n",
    "        tf.keras.layers.Dense(50, activation='relu'),\n",
    "        tf.keras.layers.Dense(14, activation='softmax')\n",
    "    ])\n",
    "\n",
    "    model.compile(optimizer=tf.keras.optimizers.Adam(lr),\n",
    "                  loss=tf.keras.losses.CategoricalCrossentropy(),\n",
    "                  #metrics=[tf.keras.metrics.Precision(name='precision')]\n",
    "                  metrics=['accuracy',tf.keras.metrics.Precision(name='precision')])\n",
    "    \n",
    "    return model \n",
    "\n"
   ]
  },
  {
   "cell_type": "code",
   "execution_count": 66,
   "metadata": {},
   "outputs": [
    {
     "name": "stdout",
     "output_type": "stream",
     "text": [
      "WARNING:tensorflow:`period` argument is deprecated. Please use `save_freq` to specify the frequency in number of samples seen.\n"
     ]
    }
   ],
   "source": [
    "## Save the weights to be loaded later\n",
    "import os,shutil\n",
    "callback_dir = \"./output/callback/\"\n",
    "weight_cur_epoch = callback_dir + \"{epoch:02d}-weight-validation-loss-{val_loss:.4f}.hdf5\"\n",
    "\n",
    "if os.path.exists(callback_dir):\n",
    "    shutil.rmtree(callback_dir)\n",
    "\n",
    "os.makedirs(callback_dir)\n",
    "\n",
    "weight_callback = tf.keras.callbacks.ModelCheckpoint(\n",
    "    weight_cur_epoch,\n",
    "    verbose=1,\n",
    "    save_weights_only=True,\n",
    "    period=5)\n",
    "\n"
   ]
  },
  {
   "cell_type": "code",
   "execution_count": 68,
   "metadata": {},
   "outputs": [],
   "source": [
    "learn_rate = 1e-04\n",
    "epoch = 200\n",
    "batch_size = 32\n",
    "dropout=0.5\n",
    "\n",
    "model = create_model(learn_rate,dropout)"
   ]
  },
  {
   "cell_type": "code",
   "execution_count": 69,
   "metadata": {},
   "outputs": [
    {
     "name": "stdout",
     "output_type": "stream",
     "text": [
      "Start training..\n",
      "\n"
     ]
    }
   ],
   "source": [
    "## Create dataset \n",
    "dataset = tf.data.Dataset.from_tensor_slices((X_train.values, y_train.values))\n",
    "train_dataset = dataset.shuffle(len(X_train)).batch(batch_size)\n",
    "dataset = tf.data.Dataset.from_tensor_slices((X_test.values, y_test.values))\n",
    "validation_dataset = dataset.shuffle(len(X_test)).batch(batch_size)\n",
    "\n",
    "print(\"Start training..\\n\")"
   ]
  },
  {
   "cell_type": "code",
   "execution_count": null,
   "metadata": {
    "scrolled": true
   },
   "outputs": [
    {
     "name": "stdout",
     "output_type": "stream",
     "text": [
      "Train for 159 steps, validate for 40 steps\n",
      "Epoch 1/200\n",
      "159/159 [==============================] - 5s 32ms/step - loss: 5.6512 - accuracy: 0.0756 - precision: 0.0773 - val_loss: 3.0542 - val_accuracy: 0.0811 - val_precision: 0.0000e+00\n",
      "Epoch 2/200\n",
      "159/159 [==============================] - 1s 9ms/step - loss: 3.3641 - accuracy: 0.0746 - precision: 0.0668 - val_loss: 2.7412 - val_accuracy: 0.0850 - val_precision: 0.0000e+00\n",
      "Epoch 3/200\n",
      "159/159 [==============================] - 1s 8ms/step - loss: 2.9143 - accuracy: 0.0738 - precision: 0.0588 - val_loss: 2.6772 - val_accuracy: 0.0827 - val_precision: 0.0000e+00\n",
      "Epoch 4/200\n",
      "159/159 [==============================] - 1s 9ms/step - loss: 2.7533 - accuracy: 0.0853 - precision: 0.1429 - val_loss: 2.6465 - val_accuracy: 0.0866 - val_precision: 0.0000e+00\n",
      "Epoch 5/200\n",
      "158/159 [============================>.] - ETA: 0s - loss: 2.6994 - accuracy: 0.0864 - precision: 0.0000e+00\n",
      "Epoch 00005: saving model to ./output/callback/05-weight-validation-loss-2.6322.hdf5\n",
      "159/159 [==============================] - 2s 14ms/step - loss: 2.6987 - accuracy: 0.0865 - precision: 0.0000e+00 - val_loss: 2.6322 - val_accuracy: 0.0969 - val_precision: 0.0000e+00\n",
      "Epoch 6/200\n",
      "159/159 [==============================] - 1s 9ms/step - loss: 2.6654 - accuracy: 0.0859 - precision: 0.0000e+00 - val_loss: 2.6209 - val_accuracy: 0.0961 - val_precision: 0.0000e+00\n",
      "Epoch 7/200\n",
      "159/159 [==============================] - 2s 10ms/step - loss: 2.6479 - accuracy: 0.0857 - precision: 0.0000e+00 - val_loss: 2.6118 - val_accuracy: 0.1102 - val_precision: 0.0000e+00\n",
      "Epoch 8/200\n",
      "159/159 [==============================] - 2s 15ms/step - loss: 2.6294 - accuracy: 0.0914 - precision: 0.0000e+00 - val_loss: 2.6059 - val_accuracy: 0.1063 - val_precision: 0.0000e+00\n",
      "Epoch 9/200\n",
      "159/159 [==============================] - 2s 13ms/step - loss: 2.6128 - accuracy: 0.0910 - precision: 0.0000e+00 - val_loss: 2.5973 - val_accuracy: 0.1087 - val_precision: 0.0000e+00\n",
      "Epoch 10/200\n",
      "158/159 [============================>.] - ETA: 0s - loss: 2.6094 - accuracy: 0.0941 - precision: 0.0000e+00\n",
      "Epoch 00010: saving model to ./output/callback/10-weight-validation-loss-2.5946.hdf5\n",
      "159/159 [==============================] - 2s 10ms/step - loss: 2.6095 - accuracy: 0.0943 - precision: 0.0000e+00 - val_loss: 2.5946 - val_accuracy: 0.1181 - val_precision: 0.0000e+00\n",
      "Epoch 11/200\n",
      "159/159 [==============================] - 2s 10ms/step - loss: 2.6047 - accuracy: 0.0996 - precision: 0.0000e+00 - val_loss: 2.5900 - val_accuracy: 0.1213 - val_precision: 0.0000e+00\n",
      "Epoch 12/200\n",
      "159/159 [==============================] - 2s 11ms/step - loss: 2.6009 - accuracy: 0.0977 - precision: 0.0000e+00 - val_loss: 2.5865 - val_accuracy: 0.1157 - val_precision: 0.0000e+00\n",
      "Epoch 13/200\n",
      "159/159 [==============================] - 2s 13ms/step - loss: 2.5980 - accuracy: 0.0924 - precision: 0.0000e+00 - val_loss: 2.5856 - val_accuracy: 0.1157 - val_precision: 0.0000e+00\n",
      "Epoch 14/200\n",
      "159/159 [==============================] - 2s 13ms/step - loss: 2.5876 - accuracy: 0.1042 - precision: 0.0000e+00 - val_loss: 2.5800 - val_accuracy: 0.1189 - val_precision: 0.0000e+00\n",
      "Epoch 15/200\n",
      "158/159 [============================>.] - ETA: 0s - loss: 2.5871 - accuracy: 0.0941 - precision: 1.0000\n",
      "Epoch 00015: saving model to ./output/callback/15-weight-validation-loss-2.5791.hdf5\n",
      "159/159 [==============================] - 2s 14ms/step - loss: 2.5875 - accuracy: 0.0939 - precision: 1.0000 - val_loss: 2.5791 - val_accuracy: 0.1087 - val_precision: 0.0000e+00\n",
      "Epoch 16/200\n",
      "159/159 [==============================] - 2s 12ms/step - loss: 2.5863 - accuracy: 0.0994 - precision: 0.0000e+00 - val_loss: 2.5743 - val_accuracy: 0.1150 - val_precision: 0.0000e+00\n",
      "Epoch 17/200\n",
      "159/159 [==============================] - 2s 11ms/step - loss: 2.5802 - accuracy: 0.1022 - precision: 0.0000e+00 - val_loss: 2.5758 - val_accuracy: 0.1150 - val_precision: 0.0000e+00\n",
      "Epoch 18/200\n",
      "159/159 [==============================] - 2s 11ms/step - loss: 2.5748 - accuracy: 0.1058 - precision: 0.0000e+00 - val_loss: 2.5681 - val_accuracy: 0.1213 - val_precision: 0.0000e+00\n",
      "Epoch 19/200\n",
      "159/159 [==============================] - 2s 11ms/step - loss: 2.5757 - accuracy: 0.1091 - precision: 0.0000e+00 - val_loss: 2.5704 - val_accuracy: 0.1189 - val_precision: 0.0000e+00\n",
      "Epoch 20/200\n",
      "156/159 [============================>.] - ETA: 0s - loss: 2.5698 - accuracy: 0.1002 - precision: 0.0000e+00\n",
      "Epoch 00020: saving model to ./output/callback/20-weight-validation-loss-2.5663.hdf5\n",
      "159/159 [==============================] - 2s 11ms/step - loss: 2.5703 - accuracy: 0.0996 - precision: 0.0000e+00 - val_loss: 2.5663 - val_accuracy: 0.1173 - val_precision: 0.0000e+00\n",
      "Epoch 21/200\n",
      "159/159 [==============================] - 2s 11ms/step - loss: 2.5668 - accuracy: 0.1024 - precision: 0.0000e+00 - val_loss: 2.5644 - val_accuracy: 0.1205 - val_precision: 0.0000e+00\n",
      "Epoch 22/200\n",
      "159/159 [==============================] - 1s 8ms/step - loss: 2.5651 - accuracy: 0.0994 - precision: 0.0000e+00 - val_loss: 2.5624 - val_accuracy: 0.1157 - val_precision: 0.0000e+00\n",
      "Epoch 23/200\n",
      "159/159 [==============================] - 2s 10ms/step - loss: 2.5602 - accuracy: 0.1187 - precision: 0.5000 - val_loss: 2.5612 - val_accuracy: 0.1213 - val_precision: 0.0000e+00\n",
      "Epoch 24/200\n",
      "159/159 [==============================] - 2s 11ms/step - loss: 2.5643 - accuracy: 0.1083 - precision: 0.0000e+00 - val_loss: 2.5602 - val_accuracy: 0.1173 - val_precision: 0.0000e+00\n",
      "Epoch 25/200\n",
      "156/159 [============================>.] - ETA: 0s - loss: 2.5565 - accuracy: 0.1134 - precision: 1.0000\n",
      "Epoch 00025: saving model to ./output/callback/25-weight-validation-loss-2.5572.hdf5\n",
      "159/159 [==============================] - 2s 10ms/step - loss: 2.5566 - accuracy: 0.1132 - precision: 1.0000 - val_loss: 2.5572 - val_accuracy: 0.1205 - val_precision: 0.0000e+00\n",
      "Epoch 26/200\n",
      "159/159 [==============================] - 2s 10ms/step - loss: 2.5524 - accuracy: 0.1085 - precision: 1.0000 - val_loss: 2.5559 - val_accuracy: 0.1173 - val_precision: 0.0000e+00\n",
      "Epoch 27/200\n",
      "159/159 [==============================] - 2s 10ms/step - loss: 2.5533 - accuracy: 0.1063 - precision: 1.0000 - val_loss: 2.5555 - val_accuracy: 0.1102 - val_precision: 0.0000e+00\n",
      "Epoch 28/200\n",
      "159/159 [==============================] - 2s 10ms/step - loss: 2.5520 - accuracy: 0.1059 - precision: 0.0000e+00 - val_loss: 2.5530 - val_accuracy: 0.1157 - val_precision: 0.0000e+00\n",
      "Epoch 29/200\n",
      "159/159 [==============================] - 2s 11ms/step - loss: 2.5507 - accuracy: 0.1119 - precision: 1.0000 - val_loss: 2.5523 - val_accuracy: 0.1189 - val_precision: 0.0000e+00\n",
      "Epoch 30/200\n",
      "146/159 [==========================>...] - ETA: 0s - loss: 2.5488 - accuracy: 0.1143 - precision: 1.0000"
     ]
    }
   ],
   "source": [
    "history = model.fit(train_dataset, \n",
    "                    epochs=epoch, \n",
    "                    validation_data=validation_dataset,\n",
    "                    callbacks=[weight_callback])\n",
    "print(\"Done.\")"
   ]
  },
  {
   "cell_type": "code",
   "execution_count": 61,
   "metadata": {},
   "outputs": [
    {
     "name": "stdout",
     "output_type": "stream",
     "text": [
      "2.1.0\n"
     ]
    }
   ],
   "source": [
    "print(tf.version.VERSION)\n"
   ]
  },
  {
   "cell_type": "code",
   "execution_count": 62,
   "metadata": {},
   "outputs": [
    {
     "name": "stdout",
     "output_type": "stream",
     "text": [
      "WARNING:tensorflow:From /home/winnie/developer/conda_env/ml-toolbox/lib/python3.7/site-packages/tensorflow_core/python/ops/resource_variable_ops.py:1786: calling BaseResourceVariable.__init__ (from tensorflow.python.ops.resource_variable_ops) with constraint is deprecated and will be removed in a future version.\n",
      "Instructions for updating:\n",
      "If using Keras pass *_constraint arguments to layers.\n",
      "INFO:tensorflow:Assets written to: ./export_model/batch_size-{}_lr-{}_epoch_{}/assets\n"
     ]
    }
   ],
   "source": [
    "## Save Model\n",
    "tf.keras.backend.set_learning_phase(0)\n",
    "export_path = './export_model/batch_size-{}_lr-{}_epoch_{}_dropout_{}'.format(batch_size,learn_rate,epoch,dropout)\n",
    "\n",
    "if os.path.exists(export_path):\n",
    "    shutil.rmtree(export_path)\n",
    "    \n",
    "\n",
    "model.save(export_path) \n"
   ]
  },
  {
   "cell_type": "code",
   "execution_count": 233,
   "metadata": {},
   "outputs": [],
   "source": [
    "%matplotlib inline\n",
    "import matplotlib.pyplot as plt"
   ]
  },
  {
   "cell_type": "code",
   "execution_count": 234,
   "metadata": {},
   "outputs": [
    {
     "data": {
      "image/png": "[encoded data removed]",
      "text/plain": [
       "<Figure size 432x288 with 1 Axes>"
      ]
     },
     "metadata": {
      "needs_background": "light"
     },
     "output_type": "display_data"
    },
    {
     "data": {
      "image/png": "[encoded data removed]",
      "text/plain": [
       "<Figure size 432x288 with 1 Axes>"
      ]
     },
     "metadata": {
      "needs_background": "light"
     },
     "output_type": "display_data"
    },
    {
     "data": {
      "image/png": "[encoded data removed]",
      "text/plain": [
       "<Figure size 432x288 with 1 Axes>"
      ]
     },
     "metadata": {
      "needs_background": "light"
     },
     "output_type": "display_data"
    }
   ],
   "source": [
    "precision = history.history['precision']\n",
    "val_precision = history.history['val_precision']\n",
    "loss = history.history['loss']\n",
    "val_loss = history.history['val_loss']\n",
    "epochs = range(1, len(precision) + 1)\n",
    "\n",
    "accuracy = history.history['accuracy']\n",
    "val_accuracy = history.history['val_accuracy']\n",
    "epochs = range(1, len(accuracy) + 1)\n",
    "plt.plot(epochs, accuracy, 'b', label='Training Accuracy')\n",
    "plt.plot(epochs, val_accuracy, 'r', label='Validation Accuracy')\n",
    "plt.title('Training and validation Accuracy')\n",
    "plt.legend()\n",
    "plt.figure()\n",
    "\n",
    "plt.plot(epochs, precision, 'b', label='Training precision')\n",
    "plt.plot(epochs, val_precision, 'r', label='Validation precision')\n",
    "plt.title('Training and validation precision')\n",
    "plt.legend()\n",
    "plt.figure()\n",
    "\n",
    "plt.plot(epochs, loss, 'b', label='Training loss')\n",
    "plt.plot(epochs, val_loss, 'r', label='Validation loss')\n",
    "plt.title('Training and validation loss')\n",
    "plt.legend()\n",
    "plt.show()"
   ]
  },
  {
   "cell_type": "code",
   "execution_count": 191,
   "metadata": {
    "scrolled": true
   },
   "outputs": [
    {
     "data": {
      "text/plain": [
       "0.33333334"
      ]
     },
     "execution_count": 191,
     "metadata": {},
     "output_type": "execute_result"
    }
   ],
   "source": []
  },
  {
   "cell_type": "code",
   "execution_count": 199,
   "metadata": {},
   "outputs": [
    {
     "ename": "TypeError",
     "evalue": "Cannot clone object '<tensorflow.python.keras.engine.sequential.Sequential object at 0x7f3a09479f90>' (type <class 'tensorflow.python.keras.engine.sequential.Sequential'>): it does not seem to be a scikit-learn estimator as it does not implement a 'get_params' methods.",
     "output_type": "error",
     "traceback": [
      "\u001b[0;31m---------------------------------------------------------------------------\u001b[0m",
      "\u001b[0;31mTypeError\u001b[0m                                 Traceback (most recent call last)",
      "\u001b[0;32m<ipython-input-199-a0b9ba36e6ba>\u001b[0m in \u001b[0;36m<module>\u001b[0;34m\u001b[0m\n\u001b[1;32m      5\u001b[0m \u001b[0mparam_grid\u001b[0m \u001b[0;34m=\u001b[0m \u001b[0mdict\u001b[0m\u001b[0;34m(\u001b[0m\u001b[0mbatch_size\u001b[0m\u001b[0;34m=\u001b[0m\u001b[0mbatch_size\u001b[0m\u001b[0;34m,\u001b[0m \u001b[0mepochs\u001b[0m\u001b[0;34m=\u001b[0m\u001b[0mepochs\u001b[0m\u001b[0;34m,\u001b[0m\u001b[0mlearn_rate\u001b[0m\u001b[0;34m=\u001b[0m\u001b[0mlearn_rate\u001b[0m\u001b[0;34m)\u001b[0m\u001b[0;34m\u001b[0m\u001b[0;34m\u001b[0m\u001b[0m\n\u001b[1;32m      6\u001b[0m \u001b[0mgrid\u001b[0m \u001b[0;34m=\u001b[0m \u001b[0mGridSearchCV\u001b[0m\u001b[0;34m(\u001b[0m\u001b[0mestimator\u001b[0m\u001b[0;34m=\u001b[0m\u001b[0mmodel\u001b[0m\u001b[0;34m,\u001b[0m \u001b[0mparam_grid\u001b[0m\u001b[0;34m=\u001b[0m\u001b[0mparam_grid\u001b[0m\u001b[0;34m,\u001b[0m \u001b[0mn_jobs\u001b[0m\u001b[0;34m=\u001b[0m\u001b[0;34m-\u001b[0m\u001b[0;36m1\u001b[0m\u001b[0;34m,\u001b[0m \u001b[0mcv\u001b[0m\u001b[0;34m=\u001b[0m\u001b[0;36m3\u001b[0m\u001b[0;34m,\u001b[0m\u001b[0mscoring\u001b[0m\u001b[0;34m=\u001b[0m\u001b[0;34m\"accuracy\"\u001b[0m\u001b[0;34m)\u001b[0m\u001b[0;34m\u001b[0m\u001b[0;34m\u001b[0m\u001b[0m\n\u001b[0;32m----> 7\u001b[0;31m \u001b[0mgrid_result\u001b[0m \u001b[0;34m=\u001b[0m \u001b[0mgrid\u001b[0m\u001b[0;34m.\u001b[0m\u001b[0mfit\u001b[0m\u001b[0;34m(\u001b[0m\u001b[0mX_train\u001b[0m\u001b[0;34m,\u001b[0m \u001b[0my_train\u001b[0m\u001b[0;34m)\u001b[0m\u001b[0;34m\u001b[0m\u001b[0;34m\u001b[0m\u001b[0m\n\u001b[0m\u001b[1;32m      8\u001b[0m \u001b[0;31m# summarize results\u001b[0m\u001b[0;34m\u001b[0m\u001b[0;34m\u001b[0m\u001b[0;34m\u001b[0m\u001b[0m\n\u001b[1;32m      9\u001b[0m \u001b[0mprint\u001b[0m\u001b[0;34m(\u001b[0m\u001b[0;34m\"Best: %f using %s\"\u001b[0m \u001b[0;34m%\u001b[0m \u001b[0;34m(\u001b[0m\u001b[0mgrid_result\u001b[0m\u001b[0;34m.\u001b[0m\u001b[0mbest_score_\u001b[0m\u001b[0;34m,\u001b[0m \u001b[0mgrid_result\u001b[0m\u001b[0;34m.\u001b[0m\u001b[0mbest_params_\u001b[0m\u001b[0;34m)\u001b[0m\u001b[0;34m)\u001b[0m\u001b[0;34m\u001b[0m\u001b[0;34m\u001b[0m\u001b[0m\n",
      "\u001b[0;32m~/developer/conda_env/ml-toolbox/lib/python3.7/site-packages/sklearn/model_selection/_search.py\u001b[0m in \u001b[0;36mfit\u001b[0;34m(self, X, y, groups, **fit_params)\u001b[0m\n\u001b[1;32m    653\u001b[0m         \u001b[0mn_splits\u001b[0m \u001b[0;34m=\u001b[0m \u001b[0mcv\u001b[0m\u001b[0;34m.\u001b[0m\u001b[0mget_n_splits\u001b[0m\u001b[0;34m(\u001b[0m\u001b[0mX\u001b[0m\u001b[0;34m,\u001b[0m \u001b[0my\u001b[0m\u001b[0;34m,\u001b[0m \u001b[0mgroups\u001b[0m\u001b[0;34m)\u001b[0m\u001b[0;34m\u001b[0m\u001b[0;34m\u001b[0m\u001b[0m\n\u001b[1;32m    654\u001b[0m \u001b[0;34m\u001b[0m\u001b[0m\n\u001b[0;32m--> 655\u001b[0;31m         \u001b[0mbase_estimator\u001b[0m \u001b[0;34m=\u001b[0m \u001b[0mclone\u001b[0m\u001b[0;34m(\u001b[0m\u001b[0mself\u001b[0m\u001b[0;34m.\u001b[0m\u001b[0mestimator\u001b[0m\u001b[0;34m)\u001b[0m\u001b[0;34m\u001b[0m\u001b[0;34m\u001b[0m\u001b[0m\n\u001b[0m\u001b[1;32m    656\u001b[0m \u001b[0;34m\u001b[0m\u001b[0m\n\u001b[1;32m    657\u001b[0m         parallel = Parallel(n_jobs=self.n_jobs, verbose=self.verbose,\n",
      "\u001b[0;32m~/developer/conda_env/ml-toolbox/lib/python3.7/site-packages/sklearn/base.py\u001b[0m in \u001b[0;36mclone\u001b[0;34m(estimator, safe)\u001b[0m\n\u001b[1;32m     65\u001b[0m                             \u001b[0;34m\"it does not seem to be a scikit-learn estimator \"\u001b[0m\u001b[0;34m\u001b[0m\u001b[0;34m\u001b[0m\u001b[0m\n\u001b[1;32m     66\u001b[0m                             \u001b[0;34m\"as it does not implement a 'get_params' methods.\"\u001b[0m\u001b[0;34m\u001b[0m\u001b[0;34m\u001b[0m\u001b[0m\n\u001b[0;32m---> 67\u001b[0;31m                             % (repr(estimator), type(estimator)))\n\u001b[0m\u001b[1;32m     68\u001b[0m     \u001b[0mklass\u001b[0m \u001b[0;34m=\u001b[0m \u001b[0mestimator\u001b[0m\u001b[0;34m.\u001b[0m\u001b[0m__class__\u001b[0m\u001b[0;34m\u001b[0m\u001b[0;34m\u001b[0m\u001b[0m\n\u001b[1;32m     69\u001b[0m     \u001b[0mnew_object_params\u001b[0m \u001b[0;34m=\u001b[0m \u001b[0mestimator\u001b[0m\u001b[0;34m.\u001b[0m\u001b[0mget_params\u001b[0m\u001b[0;34m(\u001b[0m\u001b[0mdeep\u001b[0m\u001b[0;34m=\u001b[0m\u001b[0;32mFalse\u001b[0m\u001b[0;34m)\u001b[0m\u001b[0;34m\u001b[0m\u001b[0;34m\u001b[0m\u001b[0m\n",
      "\u001b[0;31mTypeError\u001b[0m: Cannot clone object '<tensorflow.python.keras.engine.sequential.Sequential object at 0x7f3a09479f90>' (type <class 'tensorflow.python.keras.engine.sequential.Sequential'>): it does not seem to be a scikit-learn estimator as it does not implement a 'get_params' methods."
     ]
    }
   ],
   "source": [
    "from sklearn.model_selection import GridSearchCV\n",
    "batch_size = [20,100,200,500]\n",
    "epochs = [50,100,200]\n",
    "learn_rate = [1e-05,1e-04]\n",
    "param_grid = dict(batch_size=batch_size, epochs=epochs,learn_rate=learn_rate)\n",
    "grid = GridSearchCV(estimator=model, param_grid=param_grid, n_jobs=-1, cv=3,scoring=\"accuracy\")\n",
    "grid_result = grid.fit(X_train, y_train)\n",
    "# summarize results\n",
    "print(\"Best: %f using %s\" % (grid_result.best_score_, grid_result.best_params_))\n",
    "means = grid_result.cv_results_['mean_test_score']\n",
    "stds = grid_result.cv_results_['std_test_score']\n",
    "params = grid_result.cv_results_['params']\n",
    "for mean, stdev, param in zip(means, stds, params):\n",
    "    print(\"%f (%f) with: %r\" % (mean, stdev, param))"
   ]
  },
  {
   "cell_type": "code",
   "execution_count": null,
   "metadata": {},
   "outputs": [],
   "source": [
    "from sklearn.model_selection import GridSearchCV\n",
    "batch_size = [20,100,200,500]\n",
    "epochs = [50,100,200]\n",
    "learn_rate = [1e-05,1e-04]\n",
    "param_grid = dict(batch_size=batch_size, epochs=epochs,learn_rate=learn_rate)\n",
    "grid = GridSearchCV(estimator=model, param_grid=param_grid, n_jobs=-1, cv=3)\n",
    "grid_result = grid.fit(X_train, Y_train)\n",
    "# summarize results\n",
    "print(\"Best: %f using %s\" % (grid_result.best_score_, grid_result.best_params_))\n",
    "means = grid_result.cv_results_['mean_test_score']\n",
    "stds = grid_result.cv_results_['std_test_score']\n",
    "params = grid_result.cv_results_['params']\n",
    "for mean, stdev, param in zip(means, stds, params):\n",
    "    print(\"%f (%f) with: %r\" % (mean, stdev, param))"
   ]
  },
  {
   "cell_type": "code",
   "execution_count": null,
   "metadata": {},
   "outputs": [],
   "source": []
  },
  {
   "cell_type": "code",
   "execution_count": null,
   "metadata": {},
   "outputs": [],
   "source": [
    "#define regex pattern for preprocessing\n",
    "pat1 = r'@[A-Za-z0-9_]+'\n",
    "pat2 = r'https?://[^ ]+'\n",
    "combined_pat = r'|'.join((pat1,pat2))\n",
    "www_pat = r'www.[^ ]+'\n",
    "negations_dic = {\"isn't\":\"is not\", \"aren't\":\"are not\", \"wasn't\":\"was not\", \"weren't\":\"were not\",\n",
    "                \"haven't\":\"have not\",\"hasn't\":\"has not\",\"hadn't\":\"had not\",\"won't\":\"will not\",\n",
    "                \"wouldn't\":\"would not\", \"don't\":\"do not\", \"doesn't\":\"does not\",\"didn't\":\"did not\",\n",
    "                \"can't\":\"can not\",\"couldn't\":\"could not\",\"shouldn't\":\"should not\",\"mightn't\":\"might not\",\n",
    "                \"mustn't\":\"must not\"}\n",
    "neg_pattern = re.compile(r'\\b(' + '|'.join(negations_dic.keys()) + r')\\b')\n",
    "\n",
    "# preprocessing for\n",
    "# first_process: to remove Twitter handle and URL\n",
    "# second_process: to remove URL pattern starting with www.\n",
    "# third_process: to lower characters\n",
    "# fourth_process: to replace contracted negation with proper forms\n",
    "# result: remove numbers and special characters\n",
    "\n",
    "def pre_processing(column):\n",
    "    first_process = re.sub(combined_pat, '', column)\n",
    "    second_process = re.sub(www_pat, '', first_process)\n",
    "    third_process = second_process.lower()\n",
    "    fourth_process = neg_pattern.sub(lambda x: negations_dic[x.group()], third_process)\n",
    "    result = re.sub(r'[^A-Za-z ]','',fourth_process)\n",
    "    return result.strip()"
   ]
  },
  {
   "cell_type": "code",
   "execution_count": null,
   "metadata": {},
   "outputs": [],
   "source": [
    "# build a pipeline following below order\n",
    "# tokenizer: split a tweet into individual words\n",
    "# ngrams: create n-gram representation of words. Here it's set to trigram\n",
    "# cv: turn n-gram representaion to a sparse representaion of the token counts. Below 5,460 is used as vocabulary size\n",
    "# idf: calculate inverse document frequency from the result of the previous step \n",
    "#      to diminishes the weight of terms that occur very frequently in the document set \n",
    "#      and increases the weight of terms that occur rarely.\n",
    "# assembler: transform the resultof previous step to a single feature vector\n",
    "# label_stringIdx: encode target labels to a column of label indices. \n",
    "#                  The indices are ordered by label frequencies, so the most frequent label gets index 0.\n",
    "# lr: fit logistic regression with 'features' and 'label'\n",
    "def build_pipeline():\n",
    "    tokenizer = [Tokenizer(inputCol='tweet',outputCol='words')]\n",
    "    ngrams = [NGram(n=i, inputCol='words', outputCol='{0}_grams'.format(i)) for i in range(1,4)]\n",
    "    cv = [CountVectorizer(vocabSize=5460, inputCol='{0}_grams'.format(i), outputCol='{0}_tf'.format(i)) for i in range(1,4)]\n",
    "    idf = [IDF(inputCol='{0}_tf'.format(i), outputCol='{0}_tfidf'.format(i), minDocFreq=5) for i in range(1,4)]\n",
    "    assembler = [VectorAssembler(inputCols=['{0}_tfidf'.format(i) for i in range(1,4)], outputCol='features')]\n",
    "    label_stringIdx = [StringIndexer(inputCol='sentiment', outputCol='label')]\n",
    "    lr = [LogisticRegression(maxIter=100)]\n",
    "\tpipeline = Pipeline(stages=tokenizer+ngrams+cv+idf+assembler+label_stringIdx+lr)\n",
    "\treturn pipeline\n",
    "\n",
    "# below main function can be use for either first training or getting predictions with a loaded model\n",
    "# first retrieve data\n",
    "# apply pre-processing by making the above defined pre_processing function to a user defined function\n",
    "# either build the pipeline from the above build_pipeline function and train or use a loaded pipeline model\n",
    "# make predictions on the test set\n",
    "# output the pipeline model, Spark dataframe of the predictions, and the prediction accuracy on the test set\n",
    "def main(sqlc,input_dir,loaded_model=None):\n",
    "    print('retrieving data from {}'.format(input_dir))\n",
    "    if not loaded_model:\n",
    "        train_set = sqlContext.read\n",
    "                              .format('com.databricks.spark.csv')\n",
    "                              .options(header='true', inferschema='true')\n",
    "                              .load(input_dir+'training_data.csv')\n",
    "                \n",
    "                \n",
    "\ttest_set = sqlContext.read.format('com.databricks.spark.csv').options(header='true', inferschema='true').load(input_dir+'test_data.csv')\n",
    "\tprint('preprocessing data...')\n",
    "\treg_replaceUdf = f.udf(pre_processing, t.StringType())\n",
    "\tif not loaded_model:\n",
    "\t\ttrain_set = train_set.withColumn('tweet', reg_replaceUdf(f.col('text')))\n",
    "\ttest_set = test_set.withColumn('tweet', reg_replaceUdf(f.col('text')))\n",
    "\tif not loaded_model:\n",
    "\t\tpipeline = build_pipeline()\n",
    "\t\tprint('training...')\n",
    "\t\tmodel = pipeline.fit(train_set)\n",
    "\telse:\n",
    "\t\tmodel = loaded_model\n",
    "\tprint('making predictions on test data...')\n",
    "\tpredictions = model.transform(test_set)\n",
    "\taccuracy = predictions.filter(predictions.label == predictions.prediction).count() / float(test_set.count())\n",
    "\treturn model, predictions, accuracy\n",
    "\n",
    "\n",
    "if __name__==\"__main__\":\n",
    "\t# create a SparkContext while checking if there is already SparkContext created\n",
    "\ttry:\n",
    "\t    sc = ps.SparkContext()\n",
    "\t    sc.setLogLevel(\"ERROR\")\n",
    "\t    sqlContext = ps.sql.SQLContext(sc)\n",
    "\t    print('Created a SparkContext')\n",
    "\texcept ValueError:\n",
    "\t    warnings.warn('SparkContext already exists in this scope')\n",
    "\t# build pipeline, fit the model and retrieve the outputs by running main() function\n",
    "\tpipelineFit, predictions, accuracy = main(sqlContext,inputdir)\n",
    "\tprint('predictions finished!')\n",
    "\tprint('accuracy on test data is {}'.format(accuracy))\n",
    "\t# select the original target label 'sentiment', 'text' and 'label' created by label_stringIdx in the pipeline\n",
    "\t# model predictions. Save it as a single CSV file to a destination specified by the second command line argument\n",
    "\tprint('saving predictions to {}'.format(outputfile))\n",
    "\tpredictions.select(predictions['sentiment'],predictions['text'],predictions['label'],predictions['prediction']).coalesce(1).write.mode(\"overwrite\").format(\"com.databricks.spark.csv\").option(\"header\", \"true\").csv(outputfile)\n",
    "\t# save the trained model to destination specified by the third command line argument\n",
    "\tprint('saving model to {}'.format(modeldir))\n",
    "\tpipelineFit.save(modeldir)\n",
    "\t# Load the saved model and make another predictions on the same test set\n",
    "\t# to check if the model was properly saved\n",
    "\tloadedModel = PipelineModel.load(modeldir)\n",
    "\t_, _, loaded_accuracy = main(sqlContext,inputdir,loadedModel)\n",
    "\tprint('accuracy with saved model on test data is {}'.format(loaded_accuracy))\n",
    "\tsc.stop()"
   ]
  }
 ],
 "metadata": {
  "kernelspec": {
   "display_name": "Python 3",
   "language": "python",
   "name": "python3"
  },
  "language_info": {
   "codemirror_mode": {
    "name": "ipython",
    "version": 3
   },
   "file_extension": ".py",
   "mimetype": "text/x-python",
   "name": "python",
   "nbconvert_exporter": "python",
   "pygments_lexer": "ipython3",
   "version": "3.7.7"
  }
 },
 "nbformat": 4,
 "nbformat_minor": 4
}
